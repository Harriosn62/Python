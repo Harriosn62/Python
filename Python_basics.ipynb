{
  "nbformat": 4,
  "nbformat_minor": 0,
  "metadata": {
    "colab": {
      "provenance": []
    },
    "kernelspec": {
      "name": "python3",
      "display_name": "Python 3"
    },
    "language_info": {
      "name": "python"
    }
  },
  "cells": [
    {
      "cell_type": "markdown",
      "source": [
        "#Python basics"
      ],
      "metadata": {
        "id": "SYa4VretZulC"
      }
    },
    {
      "cell_type": "markdown",
      "source": [],
      "metadata": {
        "id": "SoM-uCf7cgqW"
      }
    },
    {
      "cell_type": "markdown",
      "source": [
        "1. What is Python, and why is it popular?\n",
        "  - Python is a programming language that is used for a variety of tasks, including web development, data analysis, and machine learning.  \n",
        "  - It is popular beacuse of its  its versatility as a general-purpose language, making it suitable for a wide range of applications.Its simple syntax and easy-to-understand features contribute to its beginner-friendliness. its also has many  libraries and frameworks that significantly accelerate development.  Python's seamless integration with various systems and its ability to expedite development further enhance its appeal"
      ],
      "metadata": {
        "id": "ZQOE1tNGcl32"
      }
    },
    {
      "cell_type": "markdown",
      "source": [
        "2. What is an Interpreter in Python?\n",
        "    - An interpreter in Python executes code line by line, converting high-level code into machine-readable instructionsor orders, which allows users to test, debug, and execute code interactively without needing prior compilation."
      ],
      "metadata": {
        "id": "zRJopn1Zcmru"
      }
    },
    {
      "cell_type": "markdown",
      "source": [
        "3. What Are Pre-defined Keywords in Python?\n",
        "  - Pre-defined keywords are predefined reserved words that have special meanings to the interpreter. They are essential for the syntax and structure of the language. You cannot use keywords as variable names, function names, or any other identifiers because they are already reserved for specific purposes"
      ],
      "metadata": {
        "id": "KRZDuz7UdAb5"
      }
    },
    {
      "cell_type": "markdown",
      "source": [
        " 4. Can Keywords Be Used as Variable Names?\n",
        "  - No, keywords cannot be used as variable names because they are reserved for specific functions and operations within the language.\n",
        "\n"
      ],
      "metadata": {
        "id": "v2lx4Rj1dGGh"
      }
    },
    {
      "cell_type": "markdown",
      "source": [
        "5. What is Mutability in Python?\n",
        "  - Mutability means the ability of an object to whether an its state can be changed after creation or noit. Mutable objects like for example \"lists\", \"dictionaries\" can be modified, while immutable objects \"tuples\" \"strings\" cannot."
      ],
      "metadata": {
        "id": "bNC3nidUcun3"
      }
    },
    {
      "cell_type": "markdown",
      "source": [
        "6. Why Are Lists Mutable, but Tuples are Immutable?\n",
        "  - Lists are mutable because they are designed to be dynamic data structures. They have the ability to chage and allow you to modify their contents after creation, which is useful for storing collections of items that you may need to be updated or changed over time.\n",
        "  - Tuples are immutable because they are intended for representing fixed collections of items, which can not be modify or change after creation. Its like an recoded history which can not be cange"
      ],
      "metadata": {
        "id": "m3G-AtVkfRyV"
      }
    },
    {
      "cell_type": "markdown",
      "source": [
        "7. What is the Difference Between == and is Operators in Python?\n",
        "- Both operators are used for comparisons, but they differ in what they compare:\n",
        "\n",
        "  - **\"==\" (Equality operator)**: This operator compares the values of two objects. It checks if the objects have the same content or data.\n",
        "\n",
        "  - **\"is\" (Identity operator)**: This operator compares the memory addresses of two objects. It checks if both objects refer to the same location in memory."
      ],
      "metadata": {
        "id": "9CpEbBaDgTep"
      }
    },
    {
      "cell_type": "code",
      "execution_count": null,
      "metadata": {
        "colab": {
          "base_uri": "https://localhost:8080/"
        },
        "id": "Xalr8bmIZrXB",
        "outputId": "d83ac67b-49bc-4b44-f478-a5bb135a9fdb"
      },
      "outputs": [
        {
          "output_type": "stream",
          "name": "stdout",
          "text": [
            "True\n",
            "False\n",
            "True\n"
          ]
        }
      ],
      "source": [
        "a = [1, 2, 3]\n",
        "b = [1, 2, 3]\n",
        "c = a\n",
        "\n",
        "print(a == b)  # values are equal\n",
        "print(a is b)  # Different memory addresses\n",
        "print(a is c)  # the same object"
      ]
    },
    {
      "cell_type": "markdown",
      "source": [
        "8. What are Logical Operators in Python?\n",
        "- Logical operators in Python are used to perform logical operations on boolean values. The main logical operators are:\n",
        "\n",
        "  - \"and\" :Returns True if both operands are True.\n",
        "  - \"or\"  : Returns True if at least one operand is True.\n",
        "  - \"not\" :Reverses the boolean value of the operand."
      ],
      "metadata": {
        "id": "VZg_xFQIgRr3"
      }
    },
    {
      "cell_type": "markdown",
      "source": [
        "9. What is Type Casting in Python?\n",
        "  - Type casting in Python also known as type conversion is the process of changing a variable from one data type to another datatype. It is done by using Python's built-in functions like int(), float(), str(), etc. This is often necessary when you need to perform operations on values of different types or when you want to ensure that a value is of a specific type."
      ],
      "metadata": {
        "id": "iKuChiOCiBxk"
      }
    },
    {
      "cell_type": "markdown",
      "source": [
        "10. What is the Difference Between Implicit and Explicit Type Casting?\n",
        "  - **Implicit Type Casting:** it is automatically performed by Python and converting a lower data type to a larger datatype without loss of data (e.g., int to float) when necessary or reason arises.\n",
        "  - **Explicit Type Casting:** It manually performed by the programmer using type conversion functions like int(), float(), str().\n"
      ],
      "metadata": {
        "id": "R4fuI7FWzKBc"
      }
    },
    {
      "cell_type": "markdown",
      "source": [
        "11. Purpose of Conditional Statements in Python\n",
        "  - Conditional statements in Python are used to make decisions and allows the program to execute certain blocks of code only if specific conditions are to be met. This is important for controlling the flow of a code and to hand different scenarios dynamically.\n",
        "  - The primary conditional statements in Python are: if, elif, else\n",
        "        \n",
        "\n"
      ],
      "metadata": {
        "id": "KbvQ92bs1rr2"
      }
    },
    {
      "cell_type": "markdown",
      "source": [
        "12. How the elif Statement Works\n",
        "  - The elif statement stands for \"else if\", it is used to check multiple conditions in sequence. If the condition in the \"if\" statement is false, the program checks the elif condition. If the elif condition is true, its block of code is executed. You can have multiple elif statements to handle various conditions."
      ],
      "metadata": {
        "id": "j_1OnbJzilTh"
      }
    },
    {
      "cell_type": "markdown",
      "source": [
        "13. Difference between for and while Loops\n",
        "- The difference between \"for\" and \"while\" loops are\n",
        "\n",
        "    - \"For\" loop is used to iterate over a sequence (e.g., list, tuple, string, or range). The number of iterations is determined by the length of the sequence. And its ideal when you know how many times you want to repeat a block of code.\n",
        "\n",
        "  - \"while\" Loop repeatedly executes a block of code as long as a condition is true. The number of iterations is not fixed and depends on the condition. And is ideal when you don't know how many times you need to repeat a block of code."
      ],
      "metadata": {
        "id": "SAOX0ODcw_Ik"
      }
    },
    {
      "cell_type": "markdown",
      "source": [
        "14. Scenario where a while Loop is More suitable than a for Loop\n",
        "- A while loop is more suitable when the number of iterations is not known in advance and depends on a dynamic condition.\n",
        "- For example: A program that repeatedly asks the user for input until they enter a valid number within a specific range.\n",
        "      valid = False\n",
        "      while not valid:\n",
        "      user_input = input(\"Enter a number between 1 and 10: \")\n",
        "      if user_input.isdigit():\n",
        "        number = int(user_input)\n",
        "        if 1 <= number <= 10:\n",
        "            valid = True\n",
        "        else:\n",
        "            print(\"Number out of range. Try again.\")\n",
        "      else:\n",
        "        print(\"Invalid input. Try again.\")\n",
        "\n",
        "      print(f\"You entered a valid number: {number}\")"
      ],
      "metadata": {
        "id": "QHNecxvuzM2g"
      }
    },
    {
      "cell_type": "code",
      "source": [
        "#1. Write a Python program to print \"Hello, World!\"\n",
        "\n",
        "print(\"Hello, World!\")"
      ],
      "metadata": {
        "id": "TsXfJtJ3h1AK",
        "colab": {
          "base_uri": "https://localhost:8080/"
        },
        "outputId": "7b9b0b65-3ca9-4f3f-8c40-ab97290c044a"
      },
      "execution_count": 2,
      "outputs": [
        {
          "output_type": "stream",
          "name": "stdout",
          "text": [
            "Hello, World!\n"
          ]
        }
      ]
    },
    {
      "cell_type": "code",
      "source": [
        "#2. Write a Python program that displays your name and age\n",
        "name =input(\"Enter your name: \")\n",
        "age =input(\"Enter your age: \")\n",
        "print(f\"My name is {name} and I am {age} years old.\")"
      ],
      "metadata": {
        "id": "GmvAUn2uijgX",
        "colab": {
          "base_uri": "https://localhost:8080/"
        },
        "outputId": "5b88447f-6894-4d31-e164-172d43c2bd07"
      },
      "execution_count": 3,
      "outputs": [
        {
          "output_type": "stream",
          "name": "stdout",
          "text": [
            "Enter your name: himangshu\n",
            "Enter your age: 23\n",
            "My name is himangshu and I am 23 years old.\n"
          ]
        }
      ]
    },
    {
      "cell_type": "code",
      "source": [
        "# 3. Write code to print all the pre-defined keywords in Python using the keyword library\n",
        "import keyword\n",
        "\n",
        "print(\"Python keywords:\")\n",
        "print(keyword.kwlist)"
      ],
      "metadata": {
        "colab": {
          "base_uri": "https://localhost:8080/"
        },
        "id": "XiMpF9pv2Nvq",
        "outputId": "d7265942-0b9f-45da-fcac-00c031a2e4d1"
      },
      "execution_count": 4,
      "outputs": [
        {
          "output_type": "stream",
          "name": "stdout",
          "text": [
            "Python keywords:\n",
            "['False', 'None', 'True', 'and', 'as', 'assert', 'async', 'await', 'break', 'class', 'continue', 'def', 'del', 'elif', 'else', 'except', 'finally', 'for', 'from', 'global', 'if', 'import', 'in', 'is', 'lambda', 'nonlocal', 'not', 'or', 'pass', 'raise', 'return', 'try', 'while', 'with', 'yield']\n"
          ]
        }
      ]
    },
    {
      "cell_type": "code",
      "source": [
        "# 4. Write a program that checks if a given word is a Python keyword\n",
        "\n",
        "import keyword\n",
        "\n",
        "word = input(\"Enter a keyword: \")\n",
        "if keyword.iskeyword(word):\n",
        "    print(f\"'{word}' is a Python keyword.\")\n",
        "else:\n",
        "    print(f\"'{word}' is not a Python keyword.\")"
      ],
      "metadata": {
        "colab": {
          "base_uri": "https://localhost:8080/"
        },
        "id": "g0878J7h2V8C",
        "outputId": "92fa37d4-f281-45f7-ff11-aa49d42b760a"
      },
      "execution_count": 7,
      "outputs": [
        {
          "output_type": "stream",
          "name": "stdout",
          "text": [
            "Enter a keyword: the\n",
            "'the' is not a Python keyword.\n"
          ]
        }
      ]
    },
    {
      "cell_type": "code",
      "source": [
        "# 5. Create a list and tuple in Python, and demonstrate how attempting to change an element works differently for each\n",
        "\n",
        "# List\n",
        "my_list = [1, 2, 3, 4]\n",
        "print(\"Original list:\", my_list)\n",
        "# Tuple\n",
        "my_tuple = (1, 2, 3, 4)\n",
        "print(\"Original tuple:\", my_tuple)\n",
        "\n",
        "#Attempting to changing an element\n",
        "my_list[2] = 99\n",
        "print(\"\\n\\nModified list:\", my_list)\n",
        "\n",
        "# Attempting to change an element\n",
        "try:\n",
        "    my_tuple[2] = 99\n",
        "except TypeError as e:\n",
        "    print (\"\\n\",e)"
      ],
      "metadata": {
        "colab": {
          "base_uri": "https://localhost:8080/"
        },
        "id": "XF_6UHSa2ZYj",
        "outputId": "17cbce61-d07a-425d-a710-e69a5fd31d64"
      },
      "execution_count": 15,
      "outputs": [
        {
          "output_type": "stream",
          "name": "stdout",
          "text": [
            "Original list: [1, 2, 3, 4]\n",
            "Original tuple: (1, 2, 3, 4)\n",
            "\n",
            "\n",
            "Modified list: [1, 2, 99, 4]\n",
            "\n",
            " 'tuple' object does not support item assignment\n"
          ]
        }
      ]
    },
    {
      "cell_type": "code",
      "source": [
        "# 6/7. Write a function to demonstrate the behavior of mutable and immutable arguments\n",
        "\n",
        "def demo(immu_arg, mu_arg):\n",
        "    print(\"\\nBefore modification:\")\n",
        "    print(f\"Immutable argument: \", immu_arg)\n",
        "    print(f\"Mutable argument:,\",  mu_arg)\n",
        "\n",
        "    # try to modify\n",
        "    immu_arg += ( \" modified\")\n",
        "    mu_arg.append(\"modified\")\n",
        "\n",
        "    print(\"\\nAfter modification:\")\n",
        "    print(f\"Immutable argument:\", immu_arg)\n",
        "    print(f\"Mutable argument:\", mu_arg)\n",
        "\n",
        "\n",
        "immu_var = \"Hello\"\n",
        "mu_var = [1, 2, 3]\n",
        "\n",
        "print(\"Before calling:\")\n",
        "print(f\"Immutable variable:\",immu_var)\n",
        "print(f\"Mutable variable:\", mu_var)\n",
        "\n",
        "demo(immu_var, mu_var)\n",
        "\n",
        "print(\"\\nAfter calling:\")\n",
        "print(f\"Immutable variable:\", immu_var)\n",
        "print(f\"Mutable variable:\", mu_var)\n",
        "\n",
        "print(\"\\n\\nImmutable arguments (e.g., strings, integers, tuples) cannot be changed in place. Modifying them creates a new object.\")\n",
        "print(\"Mutable arguments (e.g., lists, dictionaries) can be modified in place.\")"
      ],
      "metadata": {
        "colab": {
          "base_uri": "https://localhost:8080/"
        },
        "id": "Gae-WUdB2qkE",
        "outputId": "f9107df2-8df6-4998-ba19-8a59f18416cc"
      },
      "execution_count": 30,
      "outputs": [
        {
          "output_type": "stream",
          "name": "stdout",
          "text": [
            "Before calling:\n",
            "Immutable variable: Hello\n",
            "Mutable variable: [1, 2, 3]\n",
            "\n",
            "Before modification:\n",
            "Immutable argument:  Hello\n",
            "Mutable argument:, [1, 2, 3]\n",
            "\n",
            "After modification:\n",
            "Immutable argument: Hello modified\n",
            "Mutable argument: [1, 2, 3, 'modified']\n",
            "\n",
            "After calling:\n",
            "Immutable variable: Hello\n",
            "Mutable variable: [1, 2, 3, 'modified']\n",
            "\n",
            "\n",
            "Immutable arguments (e.g., strings, integers, tuples) cannot be changed in place. Modifying them creates a new object.\n",
            "Mutable arguments (e.g., lists, dictionaries) can be modified in place.\n"
          ]
        }
      ]
    },
    {
      "cell_type": "code",
      "source": [
        "#8.Write a program to demonstrate the use of logical operators\n",
        "\n",
        "\n",
        "m1 = int(input(\"Enter the Science: \"))\n",
        "m2 = int(input(\"Enter the Math: \"))\n",
        "m3 = int(input(\"Enter the English: \"))\n",
        "\n",
        "print(f\"Science: {m1} \\nMath: {m2} \\nEnglish {m3}\")\n",
        "pr = ((m1+m2+m3)/3)\n",
        "print(f\"Percentage:\", pr)\n",
        "\n",
        "if(pr>=90):\n",
        "    print(\"Grade: A\")\n",
        "elif(pr>=80 and pr<90):\n",
        "    print(\"Grade: B\")\n",
        "elif(pr>=70 and pr<80):\n",
        "    print(\"Grade: C\")\n"
      ],
      "metadata": {
        "colab": {
          "base_uri": "https://localhost:8080/"
        },
        "id": "fYQ2gleC4zSh",
        "outputId": "ffa84813-4000-4cf8-8f27-23ff32d169c3"
      },
      "execution_count": 39,
      "outputs": [
        {
          "output_type": "stream",
          "name": "stdout",
          "text": [
            "Enter the Science: 50\n",
            "Enter the Math: 40\n",
            "Enter the English: 40\n",
            "Science: 50 \n",
            "Math: 40 \n",
            "English 40\n",
            "Percentage: 43.333333333333336\n"
          ]
        }
      ]
    },
    {
      "cell_type": "code",
      "source": [
        " #9. Write a Python program to convert user input from string to integer, float, and boolean types\n",
        "\n",
        "for i in range(3):\n",
        "    user_input = input(\"Enter a value: \")\n",
        "\n",
        "    # Convert to integer\n",
        "    try:\n",
        "        int_value = int(user_input)\n",
        "        print(f\"As integer:\", int_value)\n",
        "    except ValueError:\n",
        "        print(\"Cannot convert to integer.\")\n",
        "\n",
        "    # Convert to float\n",
        "    try:\n",
        "        float_value = float(user_input)\n",
        "        print(f\"As float:, \"float_value)\n",
        "    except ValueError:\n",
        "        print(\"Cannot convert to float.\")\n",
        "\n",
        "    # Convert to boolean\n",
        "    bool_value = bool(user_input)\n",
        "    print(f\"As boolean: \", bool_value)\n",
        "\n",
        "    # Optional: Add a separator for clarity between iterations\n",
        "    print(\"\\n\")\n",
        ""
      ],
      "metadata": {
        "colab": {
          "base_uri": "https://localhost:8080/"
        },
        "id": "p2Au3zDw-d5c",
        "outputId": "5bb201c2-8a8e-4655-c9da-0b2083f55aa8"
      },
      "execution_count": 43,
      "outputs": [
        {
          "output_type": "stream",
          "name": "stdout",
          "text": [
            "Enter a value: 42\n",
            "As integer: 42\n",
            "As float: 42.0\n",
            "As boolean: True\n",
            "\n",
            "\n",
            "Enter a value: 9.3\n",
            "Cannot convert to integer.\n",
            "As float: 9.3\n",
            "As boolean: True\n",
            "\n",
            "\n",
            "Enter a value: true\n",
            "Cannot convert to integer.\n",
            "Cannot convert to float.\n",
            "As boolean: True\n",
            "\n",
            "\n"
          ]
        }
      ]
    },
    {
      "cell_type": "code",
      "source": [
        "# 10 Write code to demonstrate type casting with list elements\n",
        "\n",
        "\n",
        "mixed_list = [\"10\", \"20.5\", \"True\", \"False\", \"100\"]\n",
        "\n",
        "# Convert elements to appropriate types\n",
        "int_list = [int(x) for x in mixed_list if x.isdigit()]\n",
        "float_list = [float(x) for x in mixed_list if x.replace(\".\", \"\").isdigit()]\n",
        "bool_list = [bool(x) for x in mixed_list if x in [\"True\", \"False\"]]\n",
        "\n",
        "print(f\"Initial list:\", mixed_list)\n",
        "print(f\"List as integers: \" , int_list)\n",
        "print(f\"List as floats:\", float_list)\n",
        "print(f\"List as booleans: \", bool_list)"
      ],
      "metadata": {
        "colab": {
          "base_uri": "https://localhost:8080/"
        },
        "id": "fE1RwpKCATBm",
        "outputId": "88be7e3f-dca4-4f7f-aa21-25d7e34cd982"
      },
      "execution_count": 45,
      "outputs": [
        {
          "output_type": "stream",
          "name": "stdout",
          "text": [
            "Initial list: ['10', '20.5', 'True', 'False', '100']\n",
            "List as integers:  [10, 100]\n",
            "List as floats: [10.0, 20.5, 100.0]\n",
            "List as booleans:  [True, True]\n"
          ]
        }
      ]
    },
    {
      "cell_type": "code",
      "source": [
        "# 11 Write a program that checks if a number is positive, negative, or zero\n",
        "\n",
        "a = int(input(\"Enter a number: \"))\n",
        "print(\"Your number is : \", a)\n",
        "if a > 0:\n",
        "    print(\"The number is positive.\")\n",
        "elif a< 0:\n",
        "    print(\"The number is negative.\")\n",
        "else:\n",
        "    print(\"The number is zero.\")"
      ],
      "metadata": {
        "colab": {
          "base_uri": "https://localhost:8080/"
        },
        "id": "X4xVwvQmBuEH",
        "outputId": "91ec7cf4-4ee0-423c-da6b-3ff6c943fcc7"
      },
      "execution_count": 49,
      "outputs": [
        {
          "output_type": "stream",
          "name": "stdout",
          "text": [
            "Enter a number: 5\n",
            "Your number is :  5\n",
            "The number is positive.\n"
          ]
        }
      ]
    },
    {
      "cell_type": "code",
      "source": [
        "#12 Write a for loop to print numbers from 1 to 100\n",
        "\n",
        "for i in range(1, 101):\n",
        "    print(i, end=\" \")"
      ],
      "metadata": {
        "colab": {
          "base_uri": "https://localhost:8080/"
        },
        "id": "VUN7QoZNCLwi",
        "outputId": "f823035e-3649-4296-b5ad-5d8b1add8803"
      },
      "execution_count": 52,
      "outputs": [
        {
          "output_type": "stream",
          "name": "stdout",
          "text": [
            "1 2 3 4 5 6 7 8 9 10 11 12 13 14 15 16 17 18 19 20 21 22 23 24 25 26 27 28 29 30 31 32 33 34 35 36 37 38 39 40 41 42 43 44 45 46 47 48 49 50 51 52 53 54 55 56 57 58 59 60 61 62 63 64 65 66 67 68 69 70 71 72 73 74 75 76 77 78 79 80 81 82 83 84 85 86 87 88 89 90 91 92 93 94 95 96 97 98 99 100 "
          ]
        }
      ]
    },
    {
      "cell_type": "code",
      "source": [
        "# 13 Write a Python program to find the sum of all even numbers between 1 and 50\n",
        "\n",
        "sum= 0\n",
        "\n",
        "for a in range(1, 51):\n",
        "    if a % 2 == 0:\n",
        "        sum += a\n",
        "\n",
        "print(f\"The sum of all even numbers between 1 and 50 is:\" , sum)"
      ],
      "metadata": {
        "colab": {
          "base_uri": "https://localhost:8080/"
        },
        "id": "R0WEHRTEDDq4",
        "outputId": "eb606fd4-9e67-4277-ccba-219ea5491f11"
      },
      "execution_count": 55,
      "outputs": [
        {
          "output_type": "stream",
          "name": "stdout",
          "text": [
            "The sum of all even numbers between 1 and 50 is: 650\n"
          ]
        }
      ]
    },
    {
      "cell_type": "code",
      "source": [
        "# 14 Write a program to reverse a string using a while loop\n",
        "\n",
        "a = input(\"Enter a string: \")\n",
        "\n",
        "r = \"\"\n",
        "x = len(a) - 1\n",
        "\n",
        "while x >= 0:\n",
        "    r += a[x]\n",
        "    x -= 1\n",
        "\n",
        "print(f\"\\nReversed string:\" , r)"
      ],
      "metadata": {
        "colab": {
          "base_uri": "https://localhost:8080/"
        },
        "id": "SfOylAkvDhNp",
        "outputId": "3a1a9335-9a02-4004-d219-e4ba66656ea9"
      },
      "execution_count": 58,
      "outputs": [
        {
          "output_type": "stream",
          "name": "stdout",
          "text": [
            "Enter a string:  1 2 3 4 5 6 7 8 9 \n",
            "\n",
            " Reversed string:  9 8 7 6 5 4 3 2 1 \n"
          ]
        }
      ]
    },
    {
      "cell_type": "code",
      "source": [
        "# 15  Write a Python program to calculate the factorial of a number provided by the user using a while loop\n",
        "\n",
        "n = int(input(\"Enter a number: \"))\n",
        "\n",
        "f = 1\n",
        "i = 1\n",
        "\n",
        "while i <= n:\n",
        "    f *= i\n",
        "    i += 1\n",
        "\n",
        "print(f\"The factorial of {n} is: {f}\")"
      ],
      "metadata": {
        "colab": {
          "base_uri": "https://localhost:8080/"
        },
        "id": "ZaipOoW9ASS_",
        "outputId": "24805552-8b4d-4e7c-c792-d5c11d8bb54b"
      },
      "execution_count": 59,
      "outputs": [
        {
          "output_type": "stream",
          "name": "stdout",
          "text": [
            "Enter a number: 4\n",
            "The factorial of 4 is: 24\n"
          ]
        }
      ]
    }
  ]
}