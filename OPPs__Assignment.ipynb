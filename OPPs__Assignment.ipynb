{
  "nbformat": 4,
  "nbformat_minor": 0,
  "metadata": {
    "colab": {
      "provenance": []
    },
    "kernelspec": {
      "name": "python3",
      "display_name": "Python 3"
    },
    "language_info": {
      "name": "python"
    }
  },
  "cells": [
    {
      "cell_type": "markdown",
      "source": [
        "#OPPs"
      ],
      "metadata": {
        "id": "8ebf1j60nl9Q"
      }
    },
    {
      "cell_type": "markdown",
      "source": [
        "1. What is Object-Oriented Programming (OOP)?\n",
        " - Object-Oriented Programming (OOP) is a programming paradigm based on the concept of \"objects,\" which represent real-world entities. OOP allows data and methods to be bundled together within objects, making the code more organized, modular, and reusable. The four main principles of OOP are encapsulation (hiding internal details), inheritance (reusing existing code), polymorphism (using a single interface for different data types), and abstraction (hiding complexity and showing only essential features). OOP promotes code reusability and scalability, making it easier to manage and modify complex software systems.\n"
      ],
      "metadata": {
        "id": "5Xi8skU9nsRx"
      }
    },
    {
      "cell_type": "markdown",
      "source": [
        "\n",
        "2. What is a class in OOP?\n",
        " - A class in OOP is a blueprint or template for creating objects. It defines the properties (attributes) and behaviors (methods) that the objects created from the class will have. For example, a Car class might have attributes like color, brand, and model and methods like start() and stop(). A class does not hold any actual data but provides a structure for creating objects. The process of creating an object from a class is called instantiation. Classes allow better organization and reusability of code.\n"
      ],
      "metadata": {
        "id": "6OuBFEogpYqm"
      }
    },
    {
      "cell_type": "markdown",
      "source": [
        "\n",
        "3. What is an object in OOP?\n",
        " - An object in OOP is an instance of a class. It represents a specific entity with state (data) and behavior (methods). For example, if Car is a class, then a BMW car with a red color is an object. An object holds the actual data and can perform operations defined by its class methods. Objects allow interaction between different parts of a program and help simulate real-world scenarios by grouping related data and functions together.\n"
      ],
      "metadata": {
        "id": "gcEWbOvPpcjt"
      }
    },
    {
      "cell_type": "markdown",
      "source": [
        "\n",
        "4. What is the difference between abstraction and encapsulation?\n",
        "- Abstraction and encapsulation are key principles of OOP but serve different purposes.\n",
        "\n",
        " - Abstraction is the process of hiding the internal implementation details and showing only the necessary parts to the user. For example, when using a car, the driver only needs to know how to start it, not how the engine works.\n",
        "\n",
        " - Encapsulation is the process of wrapping data and methods into a single unit (class) and restricting direct access to some of the object’s components using access modifiers like private, protected, and public. For example, the engine’s inner working is hidden from the driver for safety and simplicity.\n"
      ],
      "metadata": {
        "id": "Gc_mEbqKpgWd"
      }
    },
    {
      "cell_type": "markdown",
      "source": [
        "\n",
        "5. What are dunder methods in Python?\n",
        " - Dunder methods (short for \"double underscore\") are special methods in Python that start and end with double underscores (__). They allow customization of built-in Python behavior, such as object creation, representation, and operator overloading. Examples include __init__() (constructor), __str__() (string representation), and __add__() (for the + operator). Dunder methods provide a way to implement custom behaviors and interactions with Python’s built-in functions and operators.\n"
      ],
      "metadata": {
        "id": "ycGlHYegpi6O"
      }
    },
    {
      "cell_type": "markdown",
      "source": [
        "\n",
        "6. Explain the concept of inheritance in OOP.\n",
        " - Inheritance is the mechanism by which one class (child or subclass) derives the properties and behaviors of another class (parent or superclass). It allows code reusability and hierarchical organization. For example, if a Vehicle class has methods like start() and stop(), a Car class can inherit from Vehicle and reuse these methods without rewriting them. Inheritance promotes code reuse and reduces redundancy, allowing for more flexible and scalable code design.\n"
      ],
      "metadata": {
        "id": "RlvSyxYYpkZm"
      }
    },
    {
      "cell_type": "markdown",
      "source": [
        "\n",
        "7. What is polymorphism in OOP?\n",
        " - Polymorphism allows objects of different classes to respond to the same method call in a different way. It allows a single interface to represent different types of objects. For example, if a Dog and a Cat class both have a speak() method, calling speak() on a Dog will produce a bark, while calling it on a Cat will produce a meow. Polymorphism makes the code more flexible and easier to extend by allowing dynamic method binding.\n"
      ],
      "metadata": {
        "id": "zFEqZs_Tplv2"
      }
    },
    {
      "cell_type": "markdown",
      "source": [
        "\n",
        "8. How is encapsulation achieved in Python?\n",
        "- Encapsulation in Python is achieved using access modifiers to restrict access to certain data and methods within a class. Attributes and methods can be marked as:\n",
        "\n",
        " - Public – accessible from anywhere.\n",
        "\n",
        " - Protected (_attribute) – accessible within the class and subclasses.\n",
        "\n",
        " - Private (__attribute) – accessible only within the class.\n",
        "Encapsulation ensures that data is not modified directly and provides methods to control how data is accessed and updated.\n"
      ],
      "metadata": {
        "id": "Ci-1QoMOpotO"
      }
    },
    {
      "cell_type": "markdown",
      "source": [
        "\n",
        "9. What is a constructor in Python?\n",
        "- A constructor is a special method defined by __init__() in Python. It is automatically called when an object is created from a class. The constructor initializes the object’s attributes and sets up its state. For example:\n",
        "\n",
        "\n",
        "    class Car:\n",
        "        def __init__(self, color):\n",
        "            self.color = color\n",
        "Here, __init__() initializes the color attribute when an object of Car is created.\n"
      ],
      "metadata": {
        "id": "dvpW-UBtprNf"
      }
    },
    {
      "cell_type": "markdown",
      "source": [
        "\n",
        "10. What are class and static methods in Python?\n",
        " - Class methods are defined using @classmethod and take cls as the first parameter, representing the class itself. They can modify class-level attributes.\n",
        "\n",
        " - Static methods are defined using @staticmethod and don’t take any specific self or cls parameter. They work independently of the class instance and are used for utility functions.\n",
        "\n",
        "\n",
        "    class Car:\n",
        "        @classmethod\n",
        "        def info(cls):\n",
        "            print(\"This is a car class.\")\n",
        "\n",
        "        @staticmethod\n",
        "        def utility():\n",
        "            print(\"This is a utility function.\")\n"
      ],
      "metadata": {
        "id": "Fm0Q0Qvups8_"
      }
    },
    {
      "cell_type": "markdown",
      "source": [
        "11. What is method overloading in Python?\n",
        " - Method overloading allows multiple methods with the same name but different parameters to exist in a class. Python does not support traditional method overloading, but it can be achieved using default arguments or *args and **kwargs.\n",
        "\n",
        "\n",
        "    class Car:\n",
        "        def drive(self, speed=None):\n",
        "            if speed:\n",
        "                print(f\"Driving at {speed} km/hr\")\n",
        "            else:\n",
        "                print(\"Driving\")\n"
      ],
      "metadata": {
        "id": "i9xXsWeQpvov"
      }
    },
    {
      "cell_type": "markdown",
      "source": [
        "12. What is method overriding in OOP?\n",
        "- Method overriding allows a subclass to redefine a method inherited from the parent class. The child class method should have the same name, parameters, and return type. It allows dynamic polymorphism.\n",
        "\n",
        "\n",
        "    class Vehicle:\n",
        "        def start(self):\n",
        "            print(\"Vehicle starting\")\n",
        "\n",
        "    class Car(Vehicle):\n",
        "        def start(self):\n",
        "            print(\"Car starting\")\n"
      ],
      "metadata": {
        "id": "4kDw7VkUpxJ_"
      }
    },
    {
      "cell_type": "markdown",
      "source": [
        "13. What is a property decorator in Python?\n",
        "The @property decorator allows a method to be accessed like an attribute. It helps create getter, setter, and deleter methods in an elegant way.\n",
        "\n",
        "\n",
        "    class Car:\n",
        "        def __init__(self, color):\n",
        "            self._color = color\n",
        "\n",
        "        @property\n",
        "        def color(self):\n",
        "            return self._color\n"
      ],
      "metadata": {
        "id": "gFvYa8Dmpzd4"
      }
    },
    {
      "cell_type": "markdown",
      "source": [
        "14. Why is polymorphism important in OOP?\n",
        "- Polymorphism improves code flexibility and scalability. It allows objects of different classes to be treated uniformly, enabling dynamic method binding and simplifying code maintenance. It also enhances code reusability and reduces complexity by allowing consistent interfaces across different object types.\n",
        "\n",
        "15. What is an abstract class in Python?\n",
        "- An abstract class is a class that cannot be instantiated and is defined using the ABC module. It contains abstract methods that must be implemented by its subclasses.\n",
        "\n",
        "      from abc import ABC, abstractmethod\n",
        "      class Vehicle(ABC):\n",
        "          @abstractmethod\n",
        "          def start(self):\n",
        "              pass"
      ],
      "metadata": {
        "id": "a4wkTKMXp0j3"
      }
    },
    {
      "cell_type": "markdown",
      "source": [
        "16. What are the advantages of OOP?\n",
        " - Object-Oriented Programming (OOP) offers several advantages that make it a widely used programming paradigm. First, code reusability is achieved through inheritance, allowing developers to reuse existing code and reduce redundancy. Second, modularity allows complex problems to be broken down into smaller, manageable objects, improving code organization. Third, scalability is enhanced as new features can be added with minimal changes. Fourth, data security is ensured through encapsulation by restricting direct access to internal object data. Lastly, polymorphism allows flexibility in method behavior, improving maintainability and reducing the need for multiple function definitions.\n"
      ],
      "metadata": {
        "id": "rsy6POWRp19A"
      }
    },
    {
      "cell_type": "markdown",
      "source": [
        "\n",
        "17. What is the difference between a class variable and an instance variable?\n",
        " - In Python, class variables are shared across all instances of a class, whereas instance variables are specific to each object. Class variables are defined at the class level and have the same value for every object unless modified at the instance level. Instance variables are defined within the __init__() method and are unique to each object.\n",
        "\n",
        "    class Car:\n",
        "        wheels = 4  # Class variable\n",
        "        def __init__(self, color):\n",
        "            self.color = color  # Instance variable\n",
        "\n",
        "    car1 = Car(\"Red\")\n",
        "    car2 = Car(\"Blue\")\n",
        "    print(car1.wheels)  # 4\n",
        "    print(car1.color)   # Red\n",
        "\n",
        "\n"
      ],
      "metadata": {
        "id": "IRg3N5ATrAWQ"
      }
    },
    {
      "cell_type": "markdown",
      "source": [
        "18. What is multiple inheritance in Python?\n",
        " - Multiple inheritance allows a class to inherit attributes and methods from more than one parent class. This enables a subclass to have the combined functionality of all parent classes. However, it can create conflicts when methods with the same name exist in multiple parent classes, which Python resolves using the Method Resolution Order (MRO).\n",
        "          \n",
        "          class A:\n",
        "              def show(self):\n",
        "                  print(\"Class A\")\n",
        "\n",
        "          class B:\n",
        "              def show(self):\n",
        "                  print(\"Class B\")\n",
        "\n",
        "          class C(A, B):\n",
        "              pass\n",
        "\n",
        "          obj = C()\n",
        "          obj.show()  # Output: Class A (based on MRO)\n"
      ],
      "metadata": {
        "id": "xPEZa5-OrCsA"
      }
    },
    {
      "cell_type": "markdown",
      "source": [
        "19. Explain the purpose of __str__ and __repr__ methods in Python.\n",
        " - The __str__ and __repr__ methods in Python define how an object is represented as a string:\n",
        "\n",
        " - __str__() returns a user-friendly string representation of the object, used when print() is called.\n",
        "\n",
        " - __repr__() returns an official string representation, useful for debugging and logging.\n",
        "\n",
        "      \n",
        "      class Car:\n",
        "          def __str__(self):\n",
        "              return \"Car object\"\n",
        "\n",
        "          def __repr__(self):\n",
        "              return \"Car('red')\"\n",
        "\n",
        "      car = Car()\n",
        "      print(str(car))  # Output: Car object\n",
        "      print(repr(car)) # Output: Car('red')\n"
      ],
      "metadata": {
        "id": "mE5q5BwmrEvB"
      }
    },
    {
      "cell_type": "markdown",
      "source": [
        "20. What is the significance of the super() function in Python?\n",
        " - The super() function allows a subclass to access the methods and constructors of its parent class. It is useful for method overriding and initializing parent class attributes without explicitly referring to the parent class name.\n",
        "\n",
        "          class Vehicle:\n",
        "              def start(self):\n",
        "                  print(\"Vehicle starting\")\n",
        "\n",
        "          class Car(Vehicle):\n",
        "              def start(self):\n",
        "                  super().start()\n",
        "                  print(\"Car starting\")\n",
        "\n",
        "          car = Car()\n",
        "          car.start()\n",
        "           \n"
      ],
      "metadata": {
        "id": "pSKfdQWRrG1k"
      }
    },
    {
      "cell_type": "markdown",
      "source": [
        "21. What is the significance of the __del__ method in Python?\n",
        " - The __del__ method is called when an object is deleted or goes out of scope. It is used to clean up resources, such as closing files or network connections. However, Python’s garbage collector automatically handles most cleanup tasks, so __del__ is rarely needed.\n",
        "\n",
        "          class Car:\n",
        "              def __del__(self):\n",
        "                  print(\"Object deleted\")\n",
        "\n",
        "          car = Car()\n",
        "          del car  \n"
      ],
      "metadata": {
        "id": "qaeB3yhPrKEZ"
      }
    },
    {
      "cell_type": "markdown",
      "source": [
        "22. What is the difference between @staticmethod and @classmethod in Python?\n",
        " - @staticmethod defines a method that does not access instance or class attributes. It works independently of the object state.\n",
        "\n",
        " - @classmethod defines a method that takes cls as its first parameter, allowing it to modify class-level attributes.\n",
        "          \n",
        "          class Car:\n",
        "              @staticmethod\n",
        "              def info():\n",
        "                  print(\"Static method called\")\n",
        "\n",
        "              @classmethod\n",
        "              def show(cls):\n",
        "                  print(\"Class method called\")\n",
        "\n",
        "          Car.info()\n",
        "          Car.show()\n"
      ],
      "metadata": {
        "id": "MZgDQy2HrL5h"
      }
    },
    {
      "cell_type": "markdown",
      "source": [
        "23. How does polymorphism work in Python with inheritance?\n",
        " - Polymorphism in Python allows objects of different classes to be treated as objects of a common superclass. Through inheritance, a child class can override the parent’s methods and provide a different implementation. This enables dynamic method binding at runtime.\n",
        "          \n",
        "          class Animal:\n",
        "              def sound(self):\n",
        "                  pass\n",
        "\n",
        "          class Dog(Animal):\n",
        "              def sound(self):\n",
        "                  return \"Bark\"\n",
        "\n",
        "          class Cat(Animal):\n",
        "              def sound(self):\n",
        "                  return \"Meow\"\n",
        "\n",
        "          animals = [Dog(), Cat()]\n",
        "          for animal in animals:\n",
        "              print(animal.sound())  \n",
        "\n"
      ],
      "metadata": {
        "id": "knrZzQ5zrNNR"
      }
    },
    {
      "cell_type": "markdown",
      "source": [
        "24. What is method chaining in Python OOP?\n",
        " - Method chaining allows multiple methods to be called on an object in a single line. Each method should return the object itself (self) to enable chaining.\n",
        "          \n",
        "          class Car:\n",
        "              def start(self):\n",
        "                  print(\"Starting car\")\n",
        "                  return self\n",
        "              \n",
        "              def drive(self):\n",
        "                  print(\"Driving car\")\n",
        "                  return self\n",
        "              \n",
        "          car = Car()\n",
        "          car.start().drive()\n",
        "\n"
      ],
      "metadata": {
        "id": "YCvnF6JvrOsa"
      }
    },
    {
      "cell_type": "markdown",
      "source": [
        "25. What is the purpose of the __call__ method in Python?\n",
        " - The __call__ method allows an instance of a class to be called like a function. It is useful for creating callable objects.\n",
        "          \n",
        "          class Car:\n",
        "              def __call__(self):\n",
        "                  print(\"Car is being called\")\n",
        "\n",
        "          car = Car()\n",
        "          car()  # Output: Car is being called"
      ],
      "metadata": {
        "id": "jt_eyPPbrP1Z"
      }
    },
    {
      "cell_type": "code",
      "source": [
        "#1. Create a parent class Animal with a method speak() that prints a generic message. Create a child class Dog that overrides the speak() method to print \"Bark!\".\n",
        "class Animal:\n",
        "    def speak(self):\n",
        "        print(\"Animal makes a sound\")\n",
        "\n",
        "class Dog(Animal):\n",
        "    def speak(self):\n",
        "        print(\"Bark!\")\n",
        "\n",
        "# Test\n",
        "dog = Dog()\n",
        "dog.speak()\n"
      ],
      "metadata": {
        "id": "CH0iT6OgrRNx",
        "colab": {
          "base_uri": "https://localhost:8080/"
        },
        "outputId": "630b844b-3260-4018-f7b6-a84c6ff421a4"
      },
      "execution_count": 5,
      "outputs": [
        {
          "output_type": "stream",
          "name": "stdout",
          "text": [
            "Bark!\n"
          ]
        }
      ]
    },
    {
      "cell_type": "code",
      "source": [
        "#2. Write a program to create an abstract class Shape with a method area(). Derive classes Circle and Rectangle from it and implement the area() method in both. from abc import ABC, abstractmethod\n",
        "from abc import ABC, abstractmethod\n",
        "\n",
        "class Shape(ABC):\n",
        "    @abstractmethod\n",
        "    def area(self):\n",
        "        pass\n",
        "\n",
        "class Circle(Shape):\n",
        "    def __init__(self, radius):\n",
        "        self.radius = radius\n",
        "\n",
        "    def area(self):\n",
        "        return 3.14 * self.radius ** 2\n",
        "\n",
        "class Rectangle(Shape):\n",
        "    def __init__(self, length, width):\n",
        "        self.length = length\n",
        "        self.width = width\n",
        "\n",
        "    def area(self):\n",
        "        return self.length * self.width\n",
        "\n",
        "# Test\n",
        "circle = Circle(5)\n",
        "print(circle.area())  # Output: 78.5\n",
        "\n",
        "rect = Rectangle(4, 6)\n",
        "print(rect.area())    # Output: 24\n"
      ],
      "metadata": {
        "colab": {
          "base_uri": "https://localhost:8080/"
        },
        "id": "JEaqE3RHsMII",
        "outputId": "f5aa32c7-a607-4780-9fbe-89f384ea9aec"
      },
      "execution_count": 7,
      "outputs": [
        {
          "output_type": "stream",
          "name": "stdout",
          "text": [
            "78.5\n",
            "24\n"
          ]
        }
      ]
    },
    {
      "cell_type": "code",
      "source": [
        "#3. Implement a multi-level inheritance scenario where a class Vehicle has an attribute type. Derive a class Car and further derive a class ElectricCar that adds a battery attribute.\n",
        "class Vehicle:\n",
        "    def __init__(self, type):\n",
        "        self.type = type\n",
        "\n",
        "class Car(Vehicle):\n",
        "    def __init__(self, type, brand):\n",
        "        super().__init__(type)\n",
        "        self.brand = brand\n",
        "\n",
        "class ElectricCar(Car):\n",
        "    def __init__(self, type, brand, battery):\n",
        "        super().__init__(type, brand)\n",
        "        self.battery = battery\n",
        "\n",
        "# Test\n",
        "tesla = ElectricCar(\"Electric\", \"Tesla\", \"100 kWh\")\n",
        "print(tesla.type, tesla.brand, tesla.battery)\n",
        "\n"
      ],
      "metadata": {
        "colab": {
          "base_uri": "https://localhost:8080/"
        },
        "id": "9ZMZRScMsQm4",
        "outputId": "3517b0c1-e87f-40d7-cff2-1c77e8ee9bec"
      },
      "execution_count": 8,
      "outputs": [
        {
          "output_type": "stream",
          "name": "stdout",
          "text": [
            "Electric Tesla 100 kWh\n"
          ]
        }
      ]
    },
    {
      "cell_type": "code",
      "source": [
        "#4. Demonstrate polymorphism by creating a base class Bird with a method fly(). Create two derived classes Sparrow and Penguin that override the fly() method.\n",
        "\n",
        "class Bird:\n",
        "    def fly(self):\n",
        "        print(\"Bird is flying\")\n",
        "\n",
        "class Sparrow(Bird):\n",
        "    def fly(self):\n",
        "        print(\"Sparrow flies\")\n",
        "\n",
        "class Penguin(Bird):\n",
        "    def fly(self):\n",
        "        print(\"Penguin cannot fly\")\n",
        "\n",
        "# Test\n",
        "birds = [Sparrow(), Penguin()]\n",
        "for bird in birds:\n",
        "    bird.fly()\n",
        "\n"
      ],
      "metadata": {
        "id": "6U9MMBoa6lL0",
        "colab": {
          "base_uri": "https://localhost:8080/"
        },
        "outputId": "1b8a4817-0a09-4dbe-e0ed-b85bd4cea4b3"
      },
      "execution_count": 9,
      "outputs": [
        {
          "output_type": "stream",
          "name": "stdout",
          "text": [
            "Sparrow flies\n",
            "Penguin cannot fly\n"
          ]
        }
      ]
    },
    {
      "cell_type": "code",
      "source": [
        "\n",
        "#5. Write a program to demonstrate encapsulation by creating a class BankAccount with private attributes balance and methods to deposit, withdraw, and check balance.\n",
        "\n",
        "class BankAccount:\n",
        "    def __init__(self, balance):\n",
        "        self.__balance = balance\n",
        "\n",
        "    def deposit(self, amount):\n",
        "        self.__balance += amount\n",
        "\n",
        "    def withdraw(self, amount):\n",
        "        if amount <= self.__balance:\n",
        "            self.__balance -= amount\n",
        "        else:\n",
        "            print(\"Insufficient funds\")\n",
        "\n",
        "    def check_balance(self):\n",
        "        return self.__balance\n",
        "\n",
        "# Test\n",
        "account = BankAccount(1000)\n",
        "account.deposit(500)\n",
        "account.withdraw(200)\n",
        "print(account.check_balance())\n",
        "\n"
      ],
      "metadata": {
        "id": "2PSuZa5h71PE",
        "colab": {
          "base_uri": "https://localhost:8080/"
        },
        "outputId": "d6e16c3e-578c-48ca-cd8f-36c62e5e78be"
      },
      "execution_count": 10,
      "outputs": [
        {
          "output_type": "stream",
          "name": "stdout",
          "text": [
            "1300\n"
          ]
        }
      ]
    },
    {
      "cell_type": "code",
      "source": [
        "\n",
        "#6. Demonstrate runtime polymorphism using a method play() in a base class Instrument. Derive classes Guitar and Piano that implement their own version of play().\n",
        "class Instrument:\n",
        "    def play(self):\n",
        "        print(\"Playing instrument\")\n",
        "\n",
        "class Guitar(Instrument):\n",
        "    def play(self):\n",
        "        print(\"Playing guitar\")\n",
        "\n",
        "class Piano(Instrument):\n",
        "    def play(self):\n",
        "        print(\"Playing piano\")\n",
        "\n",
        "# Test\n",
        "instruments = [Guitar(), Piano()]\n",
        "for inst in instruments:\n",
        "    inst.play()\n",
        "\n"
      ],
      "metadata": {
        "id": "Y_2UvZK474RU",
        "colab": {
          "base_uri": "https://localhost:8080/"
        },
        "outputId": "e65b953c-c860-4eef-a089-222e327285e9"
      },
      "execution_count": 11,
      "outputs": [
        {
          "output_type": "stream",
          "name": "stdout",
          "text": [
            "Playing guitar\n",
            "Playing piano\n"
          ]
        }
      ]
    },
    {
      "cell_type": "code",
      "source": [
        "\n",
        "# 7. Create a class MathOperations with a class method add_numbers() to add two numbers and a static method subtract_numbers() to subtract two numbers.\n",
        "class MathOperations:\n",
        "    @classmethod\n",
        "    def add_numbers(cls, a, b):\n",
        "        return a + b\n",
        "\n",
        "    @staticmethod\n",
        "    def subtract_numbers(a, b):\n",
        "        return a - b\n",
        "\n",
        "# Test\n",
        "print(MathOperations.add_numbers(5, 3))\n",
        "print(MathOperations.subtract_numbers(5, 3))\n",
        "\n"
      ],
      "metadata": {
        "id": "Fs-xqsMd778E",
        "colab": {
          "base_uri": "https://localhost:8080/"
        },
        "outputId": "8dc2045e-eb67-42d5-dcd1-511ac8384b08"
      },
      "execution_count": 12,
      "outputs": [
        {
          "output_type": "stream",
          "name": "stdout",
          "text": [
            "8\n",
            "2\n"
          ]
        }
      ]
    },
    {
      "cell_type": "code",
      "source": [
        "\n",
        "#8. Implement a class Person with a class method to count the total number of persons created.\n",
        "class Person:\n",
        "    count = 0\n",
        "\n",
        "    def __init__(self, name):\n",
        "        self.name = name\n",
        "        Person.count += 1\n",
        "\n",
        "    @classmethod\n",
        "    def total_persons(cls):\n",
        "        return cls.count\n",
        "\n",
        "# Test\n",
        "p1 = Person(\"Alice\")\n",
        "p2 = Person(\"Bob\")\n",
        "print(Person.total_persons())\n",
        "\n",
        "\n"
      ],
      "metadata": {
        "id": "VAFAwCI979g1",
        "colab": {
          "base_uri": "https://localhost:8080/"
        },
        "outputId": "3b9e7f01-d3b5-4e7c-c575-2f0996511794"
      },
      "execution_count": 13,
      "outputs": [
        {
          "output_type": "stream",
          "name": "stdout",
          "text": [
            "2\n"
          ]
        }
      ]
    },
    {
      "cell_type": "code",
      "source": [
        "\n",
        "#9. Write a class Fraction with attributes numerator and denominator. Override the str method to display the fraction as \"numerator/denominator\".\n",
        "class Fraction:\n",
        "    def __init__(self, num, den):\n",
        "        self.num = num\n",
        "        self.den = den\n",
        "\n",
        "    def __str__(self):\n",
        "        return f\"{self.num}/{self.den}\"\n",
        "\n",
        "# Test\n",
        "fraction = Fraction(3, 4)\n",
        "print(fraction)\n",
        "\n"
      ],
      "metadata": {
        "id": "NVlxeCir8Ko2",
        "colab": {
          "base_uri": "https://localhost:8080/"
        },
        "outputId": "8b284830-b072-479e-eef2-226589f95181"
      },
      "execution_count": 14,
      "outputs": [
        {
          "output_type": "stream",
          "name": "stdout",
          "text": [
            "3/4\n"
          ]
        }
      ]
    },
    {
      "cell_type": "code",
      "source": [
        "\n",
        "#10. Demonstrate operator overloading by creating a class Vector and overriding the add method to add two vectors.\n",
        "class Vector:\n",
        "    def __init__(self, x, y):\n",
        "        self.x = x\n",
        "        self.y = y\n",
        "\n",
        "    def __add__(self, other):\n",
        "        return Vector(self.x + other.x, self.y + other.y)\n",
        "\n",
        "# Test\n",
        "v1 = Vector(1, 2)\n",
        "v2 = Vector(3, 4)\n",
        "result = v1 + v2\n",
        "print(result.x, result.y)\n",
        "\n"
      ],
      "metadata": {
        "id": "9pERclm08MRG",
        "colab": {
          "base_uri": "https://localhost:8080/"
        },
        "outputId": "f255fb00-f726-4cc9-df62-ad6b7e3add2d"
      },
      "execution_count": 15,
      "outputs": [
        {
          "output_type": "stream",
          "name": "stdout",
          "text": [
            "4 6\n"
          ]
        }
      ]
    },
    {
      "cell_type": "code",
      "source": [
        "\n",
        "#11. Create a class Person with attributes name and age. Add a method greet() that prints \"Hello, my name is {name} and I am {age} years old.\"\n",
        "class Person:\n",
        "    def __init__(self, name, age):\n",
        "        self.name = name\n",
        "        self.age = age\n",
        "\n",
        "    def greet(self):\n",
        "        print(f\"Hello, my name is {self.name} and I am {self.age} years old.\")\n",
        "\n",
        "# Test\n",
        "p = Person(\"John\", 25)\n",
        "p.greet()\n",
        "\n"
      ],
      "metadata": {
        "id": "RBrAmzQD8N3f",
        "colab": {
          "base_uri": "https://localhost:8080/"
        },
        "outputId": "18848f65-6685-4070-b402-b698d27f4b75"
      },
      "execution_count": 16,
      "outputs": [
        {
          "output_type": "stream",
          "name": "stdout",
          "text": [
            "Hello, my name is John and I am 25 years old.\n"
          ]
        }
      ]
    },
    {
      "cell_type": "code",
      "source": [
        "\n",
        "#12. Implement a class Student with attributes name and grades. Create a method average_grade() to compute the average of the grades.\n",
        "class Student:\n",
        "    def __init__(self, name, grades):\n",
        "        self.name = name\n",
        "        self.grades = grades\n",
        "\n",
        "    def average_grade(self):\n",
        "        return sum(self.grades) / len(self.grades)\n",
        "\n",
        "# Test\n",
        "student = Student(\"Alex\", [85, 90, 78])\n",
        "print(student.average_grade())\n",
        "\n"
      ],
      "metadata": {
        "id": "SyE6yGaN8Pfm",
        "colab": {
          "base_uri": "https://localhost:8080/"
        },
        "outputId": "8cf88131-5a9d-4647-8d05-9d3004cae9df"
      },
      "execution_count": 17,
      "outputs": [
        {
          "output_type": "stream",
          "name": "stdout",
          "text": [
            "84.33333333333333\n"
          ]
        }
      ]
    },
    {
      "cell_type": "code",
      "source": [
        "\n",
        "#13. Create a class Rectangle with methods set_dimensions() to set the dimensions and area() to calculate the area.\n",
        "class Rectangle:\n",
        "    def set_dimensions(self, length, width):\n",
        "        self.length = length\n",
        "        self.width = width\n",
        "\n",
        "    def area(self):\n",
        "        return self.length * self.width\n",
        "\n",
        "# Test\n",
        "rect = Rectangle()\n",
        "rect.set_dimensions(4, 5)\n",
        "print(rect.area())\n",
        "\n"
      ],
      "metadata": {
        "id": "9udypLIP8Qye",
        "colab": {
          "base_uri": "https://localhost:8080/"
        },
        "outputId": "7a3d4938-87fc-464c-9cc0-6ae172520b2e"
      },
      "execution_count": 18,
      "outputs": [
        {
          "output_type": "stream",
          "name": "stdout",
          "text": [
            "20\n"
          ]
        }
      ]
    },
    {
      "cell_type": "code",
      "source": [
        "\n",
        "#14. Create a class Employee with a method calculate_salary() that computes the salary based on hours worked and hourly rate. Create a derived class Manager that adds a bonus to the salary\n",
        "class Employee:\n",
        "    def calculate_salary(self, hours, rate):\n",
        "        return hours * rate\n",
        "\n",
        "class Manager(Employee):\n",
        "    def calculate_salary(self, hours, rate, bonus):\n",
        "        return super().calculate_salary(hours, rate) + bonus\n",
        "\n",
        "# Test\n",
        "manager = Manager()\n",
        "print(manager.calculate_salary(40, 50, 100))"
      ],
      "metadata": {
        "id": "gy6H3Oyz8SZv",
        "colab": {
          "base_uri": "https://localhost:8080/"
        },
        "outputId": "055e5379-c28d-4519-8f37-7272c7f03455"
      },
      "execution_count": 19,
      "outputs": [
        {
          "output_type": "stream",
          "name": "stdout",
          "text": [
            "2100\n"
          ]
        }
      ]
    },
    {
      "cell_type": "code",
      "source": [
        "#15. Create a class Product with attributes name, price, and quantity. Implement a method total_price() that calculates the total price of the product.\n",
        "class Product:\n",
        "    def __init__(self, name, price, quantity):\n",
        "        self.name = name\n",
        "        self.price = price\n",
        "        self.quantity = quantity\n",
        "\n",
        "    def total_price(self):\n",
        "        return self.price * self.quantity\n",
        "\n",
        "# Test\n",
        "product = Product(\"Laptop\", 50000, 2)\n",
        "print(product.total_price())\n",
        "\n",
        "\n"
      ],
      "metadata": {
        "id": "MtQ_fx6y7JS4",
        "colab": {
          "base_uri": "https://localhost:8080/"
        },
        "outputId": "509ab8cc-1497-4c74-85ef-e368936f839e"
      },
      "execution_count": 20,
      "outputs": [
        {
          "output_type": "stream",
          "name": "stdout",
          "text": [
            "100000\n"
          ]
        }
      ]
    },
    {
      "cell_type": "code",
      "source": [
        "\n",
        "#16. Create a class Animal with an abstract method sound(). Create two derived classes Cow and Sheep that implement the sound() method.\n",
        "from abc import ABC, abstractmethod\n",
        "\n",
        "class Animal(ABC):\n",
        "    @abstractmethod\n",
        "    def sound(self):\n",
        "        pass\n",
        "\n",
        "class Cow(Animal):\n",
        "    def sound(self):\n",
        "        return \"Moo\"\n",
        "\n",
        "class Sheep(Animal):\n",
        "    def sound(self):\n",
        "        return \"Baa\"\n",
        "\n",
        "# Test\n",
        "cow = Cow()\n",
        "sheep = Sheep()\n",
        "print(cow.sound(), sheep.sound())\n",
        "\n"
      ],
      "metadata": {
        "id": "lkiulBgb8VW3",
        "colab": {
          "base_uri": "https://localhost:8080/"
        },
        "outputId": "1e86dc7d-ba72-419a-cb26-c7795dd79c9c"
      },
      "execution_count": 21,
      "outputs": [
        {
          "output_type": "stream",
          "name": "stdout",
          "text": [
            "Moo Baa\n"
          ]
        }
      ]
    },
    {
      "cell_type": "code",
      "source": [
        "\n",
        "#17. Create a class Book with attributes title, author, and year_published. Add a method get_book_info() that returns a formatted string with the book's details.\n",
        "class Book:\n",
        "    def __init__(self, title, author, year):\n",
        "        self.title = title\n",
        "        self.author = author\n",
        "        self.year = year\n",
        "\n",
        "    def get_book_info(self):\n",
        "        return f\"{self.title} by {self.author}, published in {self.year}\"\n",
        "\n",
        "# Test\n",
        "book = Book(\"1984\", \"George Orwell\", 1949)\n",
        "print(book.get_book_info())\n",
        "\n"
      ],
      "metadata": {
        "colab": {
          "base_uri": "https://localhost:8080/"
        },
        "id": "4OiaZ8hmFQ5V",
        "outputId": "2b6af0f5-4047-4d8d-88d4-fbb1f7c8d5c7"
      },
      "execution_count": 22,
      "outputs": [
        {
          "output_type": "stream",
          "name": "stdout",
          "text": [
            "1984 by George Orwell, published in 1949\n"
          ]
        }
      ]
    },
    {
      "cell_type": "code",
      "source": [
        "\n",
        "#18. Create a class House with attributes address and price. Create a derived class Mansion that adds an attribute number_of_rooms.\n",
        "class House:\n",
        "    def __init__(self, address, price):\n",
        "        self.address = address\n",
        "        self.price = price\n",
        "\n",
        "class Mansion(House):\n",
        "    def __init__(self, address, price, rooms):\n",
        "        super().__init__(address, price)\n",
        "        self.rooms = rooms\n",
        "\n",
        "# Test\n",
        "mansion = Mansion(\"123 Street\", 1000000, 10)\n",
        "print(mansion.address, mansion.price, mansion.rooms)"
      ],
      "metadata": {
        "colab": {
          "base_uri": "https://localhost:8080/"
        },
        "id": "NWhCROC3FSPd",
        "outputId": "b4b25096-2a0d-417d-e5b0-2c4437d1b44d"
      },
      "execution_count": 23,
      "outputs": [
        {
          "output_type": "stream",
          "name": "stdout",
          "text": [
            "123 Street 1000000 10\n"
          ]
        }
      ]
    },
    {
      "cell_type": "code",
      "source": [],
      "metadata": {
        "id": "_FfsBzdOFSw_"
      },
      "execution_count": null,
      "outputs": []
    }
  ]
}