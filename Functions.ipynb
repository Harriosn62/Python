{
  "nbformat": 4,
  "nbformat_minor": 0,
  "metadata": {
    "colab": {
      "provenance": []
    },
    "kernelspec": {
      "name": "python3",
      "display_name": "Python 3"
    },
    "language_info": {
      "name": "python"
    }
  },
  "cells": [
    {
      "cell_type": "markdown",
      "source": [
        "#Function"
      ],
      "metadata": {
        "id": "qc0dksgnsX9r"
      }
    },
    {
      "cell_type": "markdown",
      "source": [
        "1. Difference between a Function and a Method in Python\n",
        "  - Function: A function is a block of reusable code that performs a specific task. It is defined using the def keyword and can be called independently.\n",
        "  - Method: A method is a function that is associated with an object. It is called on an object and has access to the object's data.\n",
        "\n",
        "         #Function example\n",
        "         def greet(name):\n",
        "          return f\"Hello, {name}!\"\n",
        "\n",
        "         #Method example (part of a class)\n",
        "         class Person:\n",
        "          def __init__(self, name):\n",
        "            self.name = name\n",
        "    \n",
        "          def greet(self):  # Method\n",
        "            return f\"Hello, {self.name}!\"\n",
        "\n",
        "         p = Person(\"Alice\")\n",
        "         print(p.greet())  # Output: Hello, Alice!\n",
        "\n"
      ],
      "metadata": {
        "id": "v0ovhPNMsdn7"
      }
    },
    {
      "cell_type": "markdown",
      "source": [
        "2. Function Arguments and Parameters in Python\n",
        "Definition\n",
        "  - Parameters are the variables listed in a function definition. They act as placeholders for values that the function will receive when called.\n",
        "  - Arguments are the actual values passed to the function when it is invoked.\n",
        "  - Types of Function Arguments in Python\n",
        "    - Positional Arguments\n",
        "    - Keyword Arguments  \n",
        "    - Default Arguments\n",
        "    - Variable-length Arguments (* args and **kwargs)\n",
        "    \n",
        "           def add(a, b):  # a and b are parameters\n",
        "             return a + b\n",
        "\n",
        "           result = add(5, 3)  # 5 and 3 are arguments\n",
        "           print(result)  \n"
      ],
      "metadata": {
        "id": "zkuq1i6QuIW1"
      }
    },
    {
      "cell_type": "markdown",
      "source": [
        "3. Different Ways to Define and Call a Function in Python\n",
        "  - I. Normal Function (Using def): A standard function is created using the def keyword. It can take parameters and return a value.\n",
        "         def multiply(x, y):\n",
        "           return x * y\n",
        "\n",
        "         print(multiply(3, 4))  \n",
        "         # Output: 12\n",
        "         \n",
        "  - II. Lambda Function (Anonymous Function) A lambda function is a small anonymous function that can take multiple arguments but only contains a single expression. It’s mainly used for short, simple operations.\n",
        "           square = lambda x: x ** 2\n",
        "           print(square(5))  \n",
        "           # Output: 25\n",
        "\n",
        "  - III. Using *args (Variable-Length Positional Arguments) and **kwargs (Variable-Length Keyword Arguments)\n",
        "    - *args allows passing multiple positional arguments as a tuple.\n",
        "    - **kwargs allows passing multiple keyword arguments as a dictionary.\n",
        "           def display(*args, **kwargs):\n",
        "             print(args)   # Tuple of positional arguments\n",
        "             print(kwargs)  # Dictionary of keyword arguments\n",
        "\n",
        "           display(1, 2, 3, name=\"Alice\", age=25)"
      ],
      "metadata": {
        "id": "5zyhf2H5vQ6c"
      }
    },
    {
      "cell_type": "markdown",
      "source": [
        "4. Purpose of the return Statement in a Python Function\n",
        "  - The return statement is used inside a function to send back a value to the caller. Without return, a function returns None by default.\n",
        "\n",
        "  - We use resturn to return a value from a function enables using the output elsewhere.\n",
        "  - It is also use to exit a function early which stops execution of the function when return is encountered.\n",
        "  - And to return multiple values, Python allows returning multiple values as a tuple.\n",
        "\n",
        "\n",
        "     def square(x):\n",
        "        return x * x\n",
        "\n",
        "     print(square(4))  \n",
        "     # Output: 16\n"
      ],
      "metadata": {
        "id": "sQYL1h3Kx5O7"
      }
    },
    {
      "cell_type": "markdown",
      "source": [
        "5. Iterators in Python and How They Differ from Iterables\n",
        "  - I. An iterable is any Python object capable of returning its elements one at a time. It implements the __iter__() method, which returns an iterator. Examples of iterables include lists, tuples, strings, and dictionaries.\n",
        "\n",
        "         my_list = [1, 2, 3]  # Iterable\n",
        "         for item in my_list:\n",
        "           print(item)\n",
        "  - II. An iterator is an object that implements the __iter__() and __next__() methods. It keeps track of the current state during iteration and returns the next value when __next__() is called. When there are no more items to return, it raises the StopIteration exception.\n",
        "\n",
        "          my_list = [1, 2, 3]\n",
        "          my_iterator = iter(my_list)  # Creates an iterator from the iterable\n",
        "          print(next(my_iterator))  # Output: 1\n",
        "          print(next(my_iterator))  # Output: 2\n",
        "          print(next(my_iterator))  # Output: 3"
      ],
      "metadata": {
        "id": "v1FZ9LJTzEz6"
      }
    },
    {
      "cell_type": "markdown",
      "source": [
        "6. Explain the Concept of Generators in Python and How They Are Defined\n",
        "  - A generator in Python is a special type of function that allows you to iterate over data lazily (one item at a time) instead of storing everything in memory. It is created using the yield keyword instead of return.\n",
        "\n",
        "  - A generator function uses yield instead of return. When called, it does not execute immediately but returns a generator object. You can iterate over this object using next() or a loop.\n",
        "\n",
        "          def count_up_to(n):\n",
        "            count = 1\n",
        "              while count <= n:\n",
        "                 yield count  # Pause here and return count\n",
        "                 count += 1\n",
        "\n",
        "          gen = count_up_to(5)\n",
        "          print(next(gen))  # Output: 1\n",
        "          print(next(gen))  # Output: 2\n",
        "          print(list(gen))  # Output: [3, 4, 5]\n"
      ],
      "metadata": {
        "id": "EjAlgKgluBx9"
      }
    },
    {
      "cell_type": "markdown",
      "source": [
        "7. Advantages of Using Generators Over Regular Functions\n",
        "  - I. Memory Efficiency\n",
        "Regular functions return all values at once, consuming memory. Generators produce values one by one without holding everything in memory.\n",
        "          def generate_numbers():\n",
        "            for i in range(10**6):  # A million numbers\n",
        "              yield i  # Generates one number at a time\n",
        "  - II. Faster Execution (No Need to Store Entire Output)\n",
        "A normal function with a large list takes more time to load and process, whereas a generator starts returning values immediately.\n",
        "\n",
        "          import time\n",
        "\n",
        "          def normal_function():\n",
        "            return [i for i in range(1000000)]  # Returns a full list\n",
        "\n",
        "          def generator_function():\n",
        "            for i in range(1000000):  # Yields one by one\n",
        "              yield i  \n",
        "\n",
        "          start = time.time()\n",
        "          for num in generator_function():\n",
        "            if num == 10000:  # Stop after 10,000 elements\n",
        "              break\n",
        "          print(\"Generator Time:\", time.time() - start)\n",
        "\n",
        "          start = time.time()\n",
        "          normal_function()  # Returns full list (takes more memory)\n",
        "          print(\"Normal Function Time:\", time.time() - start)\n",
        "  - III. 3. Infinite Sequences\n",
        "You can create infinite loops using generators.\n",
        "\n",
        "          def fibonacci():\n",
        "              a, b = 0, 1\n",
        "              while True:\n",
        "                  yield a\n",
        "                  a, b = b, a + b\n",
        "\n",
        "          fib = fibonacci()\n",
        "          print(next(fib))  # 0\n",
        "          print(next(fib))  # 1\n",
        "          print(next(fib))  # 1\n",
        "          print(next(fib))  # 2\n"
      ],
      "metadata": {
        "id": "w6SfvipOtS4Q"
      }
    },
    {
      "cell_type": "markdown",
      "source": [
        " 8. What Is a Lambda Function in Python and When Is It Typically Used? just give one example\n",
        "  - A lambda function is a small, anonymous function defined using the lambda keyword. It can take any number of arguments but has only one expression. It is typically used for short, simple operations where defining a full function is unnecessary.\n",
        "\n",
        "          Sort a list of tuples by the second element\n",
        "          data = [(1, 3), (4, 1), (2, 2)]\n",
        "          sorted_data = sorted(data, key=lambda x: x[1])\n",
        "          print(sorted_data)  # Output: [(4, 1), (2, 2), (1, 3)]"
      ],
      "metadata": {
        "id": "-t5n8iBA353W"
      }
    },
    {
      "cell_type": "markdown",
      "source": [
        "9. Purpose and Usage of map() in Python\n",
        "  - The map() function is used to apply a given function to each item of an iterable (e.g., list, tuple) and return an iterator of the results. It is useful for transforming data without writing explicit loops.\n",
        "  - Theya apply a transformation to all elements of an iterable.\n",
        "  - Works well with lambda functions for quick operations.\n",
        "\n",
        "          #Add corresponding elements of two lists\n",
        "          list1 = [1, 2, 3]\n",
        "          list2 = [4, 5, 6]\n",
        "          result = map(lambda x, y: x + y, list1, list2)\n",
        "          print(list(result))  # Output: [5, 7, 9]"
      ],
      "metadata": {
        "id": "fd82zePO4WW5"
      }
    },
    {
      "cell_type": "markdown",
      "source": [
        "10. Difference Between map(), reduce(), and filter() in paragraph\n",
        "- The map(), reduce(), and filter() functions in Python are used for processing iterables, but they serve different purposes.\n",
        "\n",
        "  - map(): Applies a given function to each item of an iterable and returns an iterator of the results. It is used for transforming data, such as applying a mathematical operation to all elements in a list. For example, map(lambda x: x * 2, [1, 2, 3]) doubles each element.\n",
        "\n",
        "  - filter(): Filters elements of an iterable based on a condition defined by a function. It returns an iterator containing only the elements that satisfy the condition. For example, filter(lambda x: x > 2, [1, 2, 3, 4]) returns [3, 4].\n",
        "\n",
        "  - reduce(): Reduces an iterable to a single value by cumulatively applying a function to its elements. It is part of the functools module and is used for operations like summing all elements or finding the product. For example, reduce(lambda x, y: x + y, [1, 2, 3, 4]) returns 10.\n",
        "\n",
        "        #Map example Double each element in a list\n",
        "        numbers = [1, 2, 3, 4]\n",
        "        doubled = map(lambda x: x * 2, numbers)\n",
        "        print(list(doubled))  # Output: [2, 4, 6, 8]\n",
        "\n",
        "        # Filter even numbers from a list\n",
        "        numbers = [1, 2, 3, 4, 5, 6]\n",
        "        evens = filter(lambda x: x % 2 == 0, numbers)\n",
        "        print(list(evens))  # Output: [2, 4, 6]\n",
        "\n",
        "        from functools import reduce\n",
        "        # Sum all elements in a list\n",
        "        numbers = [1, 2, 3, 4]\n",
        "        total = reduce(lambda x, y: x + y, numbers)\n",
        "        print(total)  # Output: 10"
      ],
      "metadata": {
        "id": "RpaynZvZ5BFF"
      }
    },
    {
      "cell_type": "markdown",
      "source": [
        "11. Internal Mechanism for Sum Operation Using reduce() on List: [47, 11, 42, 13]\n",
        "  - The reduce() function from the functools module in Python applies a function cumulatively to the elements of an iterable, reducing it to a single value.\n",
        "\n",
        "  - Steps for Execution of reduce() on [47, 11, 42, 13]\n",
        "      - First Pair: 47 + 11 = 58\n",
        "      - Second Pair: 58 + 42 = 100\n",
        "      - Third Pair: 100 + 13 = 113\n",
        "      - Final Output: 113\n",
        "\n",
        "            from functools import reduce\n",
        "            # Function to add two numbers\n",
        "            def add(x, y):\n",
        "              return x + y\n",
        "            # List of numbers\n",
        "            numbers = [47, 11, 42, 13]\n",
        "            # Using reduce to compute the sum\n",
        "            result = reduce(add, numbers)\n",
        "            print(\"Sum using reduce:\", result)  # Output: 113\n"
      ],
      "metadata": {
        "id": "fNQi0Hjj6MJs"
      }
    },
    {
      "cell_type": "code",
      "source": [
        "#1. Write a Python function that takes a list of numbers as input and returns the sum of all even numbers in the list.\n",
        "\n",
        "def sum_of_evens(numbers):\n",
        "    return sum(num for num in numbers if num % 2 == 0)\n",
        "\n",
        "# Example usage:\n",
        "print(sum_of_evens([1, 2, 3, 4, 5, 6]))\n"
      ],
      "metadata": {
        "colab": {
          "base_uri": "https://localhost:8080/"
        },
        "id": "YJUSWyiW7Nvy",
        "outputId": "5f77bea8-f714-45c7-9d38-3233a0d998d1"
      },
      "execution_count": 6,
      "outputs": [
        {
          "output_type": "stream",
          "name": "stdout",
          "text": [
            "12\n"
          ]
        }
      ]
    },
    {
      "cell_type": "code",
      "source": [
        "#2. Create a Python function that accepts a string and returns the reverse of that string.\n",
        "def reverse_string(s):\n",
        "    return s[::-1]\n",
        "\n",
        "# Example usage:\n",
        "print(reverse_string(\"hello\"))"
      ],
      "metadata": {
        "colab": {
          "base_uri": "https://localhost:8080/"
        },
        "id": "DqUnvYgA7mDq",
        "outputId": "ea6b85e2-2347-428d-f62f-4412fe1c3bdb"
      },
      "execution_count": 7,
      "outputs": [
        {
          "output_type": "stream",
          "name": "stdout",
          "text": [
            "olleh\n"
          ]
        }
      ]
    },
    {
      "cell_type": "code",
      "source": [
        "#3. Implement a Python function that takes a list of integers and returns a new list containing the squares of each number.\n",
        "def square_numbers(numbers):\n",
        "    return [num ** 2 for num in numbers]\n",
        "\n",
        "# Example usage:\n",
        "print(square_numbers([1, 2, 3, 4]))"
      ],
      "metadata": {
        "colab": {
          "base_uri": "https://localhost:8080/"
        },
        "id": "Qf3Pq3ah7rKu",
        "outputId": "03d1bb6c-0948-413a-cdfb-4693aa3fae45"
      },
      "execution_count": 8,
      "outputs": [
        {
          "output_type": "stream",
          "name": "stdout",
          "text": [
            "[1, 4, 9, 16]\n"
          ]
        }
      ]
    },
    {
      "cell_type": "code",
      "source": [
        "#4. Write a Python function that checks if a given number is prime or not from 1 to 200\n",
        "def is_prime(n):\n",
        "    if n <= 1:\n",
        "        return False\n",
        "    for i in range(2, int(n**0.5) + 1):\n",
        "        if n % i == 0:\n",
        "            return False\n",
        "    return True\n",
        "\n",
        "# Example usage:\n",
        "for num in range(1, 201):\n",
        "    if is_prime(num):\n",
        "        print(num, end=\" \")"
      ],
      "metadata": {
        "colab": {
          "base_uri": "https://localhost:8080/"
        },
        "id": "_YJMAJsN7uhg",
        "outputId": "9fc51d12-8114-4595-d164-07dbc844e18d"
      },
      "execution_count": 9,
      "outputs": [
        {
          "output_type": "stream",
          "name": "stdout",
          "text": [
            "2 3 5 7 11 13 17 19 23 29 31 37 41 43 47 53 59 61 67 71 73 79 83 89 97 101 103 107 109 113 127 131 137 139 149 151 157 163 167 173 179 181 191 193 197 199 "
          ]
        }
      ]
    },
    {
      "cell_type": "code",
      "source": [
        "#5. Create an iterator class in Python that generates the Fibonacci sequence up to a specified number of terms.\n",
        "class FibonacciIterator:\n",
        "    def __init__(self, terms):\n",
        "        self.terms = terms\n",
        "        self.count = 0\n",
        "        self.a, self.b = 0, 1\n",
        "\n",
        "    def __iter__(self):\n",
        "        return self\n",
        "\n",
        "    def __next__(self):\n",
        "        if self.count >= self.terms:\n",
        "            raise StopIteration\n",
        "        result = self.a\n",
        "        self.a, self.b = self.b, self.a + self.b\n",
        "        self.count += 1\n",
        "        return result\n",
        "\n",
        "# Example usage:\n",
        "fib = FibonacciIterator(10)\n",
        "for num in fib:\n",
        "    print(num, end=\" \")"
      ],
      "metadata": {
        "colab": {
          "base_uri": "https://localhost:8080/"
        },
        "id": "Ww1240vl7yDa",
        "outputId": "26fcfccd-1c4a-4e78-c526-03ef8b05e20f"
      },
      "execution_count": 10,
      "outputs": [
        {
          "output_type": "stream",
          "name": "stdout",
          "text": [
            "0 1 1 2 3 5 8 13 21 34 "
          ]
        }
      ]
    },
    {
      "cell_type": "code",
      "source": [
        "#6. Write a generator function in Python that yields the powers of 2 up to a given exponent.\n",
        "\n",
        "def powers_of_two(exponent):\n",
        "    for i in range(exponent + 1):\n",
        "        yield 2 ** i\n",
        "\n",
        "# Example usage:\n",
        "for power in powers_of_two(5):\n",
        "    print(power, end=\" \")\n"
      ],
      "metadata": {
        "colab": {
          "base_uri": "https://localhost:8080/"
        },
        "id": "WTEPVjMU7z7U",
        "outputId": "b0d9a0a8-d7e5-4e5a-e644-055dba7275cd"
      },
      "execution_count": 15,
      "outputs": [
        {
          "output_type": "stream",
          "name": "stdout",
          "text": [
            "1 2 4 8 16 32 "
          ]
        }
      ]
    },
    {
      "cell_type": "code",
      "source": [
        "#7. Implement a generator function that reads a file line by line and yields each line as a string.\n",
        "\n",
        "def read_file_line_by_line(filename):\n",
        "    with open(filename, 'r') as file:\n",
        "        for line in file:\n",
        "            yield line.strip()\n",
        "\n",
        "# Example usage:\n",
        "for line in read_file_line_by_line('example.txt'):\n",
        "    print(line)"
      ],
      "metadata": {
        "id": "QJx4_i-K9KvO"
      },
      "execution_count": null,
      "outputs": []
    },
    {
      "cell_type": "code",
      "source": [
        "#8. Use a lambda function in Python to sort a list of tuples based on the second element of each tuple.\n",
        "\n",
        "# List of tuples\n",
        "data = [(1, 3), (4, 1), (2, 2)]\n",
        "\n",
        "# Sort based on the second element\n",
        "sorted_data = sorted(data, key=lambda x: x[1])\n",
        "print(sorted_data)\n"
      ],
      "metadata": {
        "colab": {
          "base_uri": "https://localhost:8080/"
        },
        "id": "RYIcsW1e8fNZ",
        "outputId": "4a4a8274-7a5e-47dd-c064-ed295fde44bb"
      },
      "execution_count": 17,
      "outputs": [
        {
          "output_type": "stream",
          "name": "stdout",
          "text": [
            "[(4, 1), (2, 2), (1, 3)]\n"
          ]
        }
      ]
    },
    {
      "cell_type": "code",
      "source": [
        "#9. Write a Python program that uses `map()` to convert a list of temperatures from Celsius to Fahrenheit.\n",
        "\n",
        "# List of temperatures in Celsius\n",
        "celsius_temps = [0, 10, 20, 30, 40]\n",
        "\n",
        "# Convert to Fahrenheit\n",
        "fahrenheit_temps = list(map(lambda c: (9/5) * c + 32, celsius_temps))\n",
        "print(fahrenheit_temps)\n"
      ],
      "metadata": {
        "colab": {
          "base_uri": "https://localhost:8080/"
        },
        "id": "7czUS3-e8g_M",
        "outputId": "7a791f14-a919-475d-880d-1b1bb1fe2d84"
      },
      "execution_count": 18,
      "outputs": [
        {
          "output_type": "stream",
          "name": "stdout",
          "text": [
            "[32.0, 50.0, 68.0, 86.0, 104.0]\n"
          ]
        }
      ]
    },
    {
      "cell_type": "code",
      "source": [
        "#10. Create a Python program that uses `filter()` to remove all the vowels from a given string.\n",
        "\n",
        "# Input string\n",
        "input_string = \"Hello, World!\"\n",
        "\n",
        "# Define vowels\n",
        "vowels = \"aeiouAEIOU\"\n",
        "\n",
        "# Remove vowels using filter()\n",
        "filtered_string = ''.join(filter(lambda x: x not in vowels, input_string))\n",
        "print(filtered_string)"
      ],
      "metadata": {
        "colab": {
          "base_uri": "https://localhost:8080/"
        },
        "id": "ZnzhyX8m8i_c",
        "outputId": "d181f0e5-0a78-4907-9ec2-1992cbe9259d"
      },
      "execution_count": 19,
      "outputs": [
        {
          "output_type": "stream",
          "name": "stdout",
          "text": [
            "Hll, Wrld!\n"
          ]
        }
      ]
    },
    {
      "cell_type": "code",
      "source": [
        "#11.Imagine an accounting routine used in a book shop. It works on a list with sublists, which look like this:\n",
        "\n",
        "orders = [\n",
        "    (34587, \"Learning Python, Mark Lutz\", 4, 40.95),\n",
        "    (98762, \"Programming Python, Mark Lutz\", 5, 56.80),\n",
        "    (77226, \"Head First Python, Paul Barry\", 3, 32.95),\n",
        "    (88112, \"Einführung in Python3, Bernd Klein\", 3, 24.99)\n",
        "]\n",
        "\n",
        "# Using map() and lambda function\n",
        "order_totals = list(map(lambda x: (x[0], x[2] * x[3] if x[2] * x[3] >= 100 else x[2] * x[3] + 10), orders))\n",
        "\n",
        "# Print the result\n",
        "print(order_totals)\n"
      ],
      "metadata": {
        "colab": {
          "base_uri": "https://localhost:8080/"
        },
        "id": "DOs8IprE80I4",
        "outputId": "6ade5aaf-54b5-46ea-ba13-740f83e532cc"
      },
      "execution_count": 22,
      "outputs": [
        {
          "output_type": "stream",
          "name": "stdout",
          "text": [
            "[(34587, 163.8), (98762, 284.0), (77226, 108.85000000000001), (88112, 84.97)]\n"
          ]
        }
      ]
    },
    {
      "cell_type": "code",
      "source": [],
      "metadata": {
        "id": "LoVX18Uw82SL"
      },
      "execution_count": null,
      "outputs": []
    }
  ]
}