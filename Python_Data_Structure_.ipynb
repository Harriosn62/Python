{
  "nbformat": 4,
  "nbformat_minor": 0,
  "metadata": {
    "colab": {
      "provenance": []
    },
    "kernelspec": {
      "name": "python3",
      "display_name": "Python 3"
    },
    "language_info": {
      "name": "python"
    }
  },
  "cells": [
    {
      "cell_type": "markdown",
      "source": [
        "#Data Structure"
      ],
      "metadata": {
        "id": "DR14wHZPJRnC"
      }
    },
    {
      "cell_type": "markdown",
      "source": [
        "1. What are data structures, and why are they important?\n",
        "- Data structures are ways of organizing and storing data in a computer so that it can be accessed and modified efficiently. They provide a means to manage large amounts of data, such as databases or large datasets, and are essential for designing efficient algorithms.\n",
        "\n",
        "- Following are the reasons why i think it is important\n",
        "\n",
        "  - Efficiency: Proper data structures enable faster access and manipulation of data.\n",
        "  - Organization: They help in organizing data logically, making it easier to understand and work with.\n",
        "  - Reusability: Common data structures (like arrays, lists, and trees) can be reused across different applications.\n",
        "  - Scalability: They allow programs to handle growing amounts of data efficiently."
      ],
      "metadata": {
        "id": "BTblZw7xJVC7"
      }
    },
    {
      "cell_type": "markdown",
      "source": [
        "2. Explain the difference between mutable and immutable data types with examples.\n",
        "- Mutable: Data types that can be modified after creation.\n",
        "Eg: Lists, dictionaries, sets.\n",
        "\n",
        "- Immutable: Data types that cannot be modified after creation.\n",
        "Eg: Integers, strings, tuples."
      ],
      "metadata": {
        "id": "uQUWqZYVJ61o"
      }
    },
    {
      "cell_type": "markdown",
      "source": [
        "3. What are the main differences between lists and tuples in Python?\n",
        "- List: its mutable, defined with square brackets \"[]\", comparatively slower, for dynamic data\n",
        "- Tuples: Its imputable, define by round brackets or parentheses \"()\", more faster, for fixed datas"
      ],
      "metadata": {
        "id": "PQDqRaPwKSmS"
      }
    },
    {
      "cell_type": "markdown",
      "source": [
        "4. Describe how dictionaries store data.\n",
        "- Dictionaries store data as key-value pairs. Each key is unique and maps to a specific value. Internally, dictionaries use a hash table to store and retrieve data efficiently.\n",
        "  - Keys: Must be immutable (e.g., strings, numbers, tuples).\n",
        "\n",
        "  - Values: Can be of any data type (e.g., lists, dictionaries, integers)."
      ],
      "metadata": {
        "id": "HLvfDOezLB2W"
      }
    },
    {
      "cell_type": "markdown",
      "source": [
        "5. Why might you use a set instead of a list in Python?\n",
        "- i might you use a set instead of a list because of the following reasons;\n",
        "  - Uniqueness: Sets automatically remove duplicate values.\n",
        "\n",
        "  - Membership Testing: Sets are optimized for checking if an element exists (O(1) time complexity).\n",
        "\n",
        "  - Mathematical Operations: Sets support operations like union, intersection, and difference."
      ],
      "metadata": {
        "id": "Mgk4Mx3_LOSn"
      }
    },
    {
      "cell_type": "markdown",
      "source": [
        "6. What is a string in Python, and how is it different from a list?\n",
        "  - String: A sequence of characters, enclosed in quotes (\" \" or ' '). Strings are immutable.\n",
        "  - List: A collection of items, enclosed in square brackets []. Lists are mutable."
      ],
      "metadata": {
        "id": "XsHwYYozLhfy"
      }
    },
    {
      "cell_type": "markdown",
      "source": [
        "7. How do tuples ensure data integrity in Python?\n",
        "- Tuples are immutable, meaning their contents cannot be changed after creation. This ensures that the data remains consistent and unaltered, which is useful for:\n",
        "\n",
        "  - Storing fixed data (e.g., configuration settings).\n",
        "\n",
        "  - Using as keys in dictionaries (since keys must be immutable)."
      ],
      "metadata": {
        "id": "fFBQd9k9Loap"
      }
    },
    {
      "cell_type": "markdown",
      "source": [
        "8. What is a hash table, and how does it relate to dictionaries in Python?\n",
        "- Hash Table: A data structure that maps keys to values using a hash function. It allows for fast data retrieval (O(1) average time complexity).\n",
        "\n",
        "- it is related to Dictionaries as Python dictionaries are implemented using hash tables. The keys are hashed to determine their storage location, enabling efficient lookups.\n",
        ""
      ],
      "metadata": {
        "id": "A8AGbsqfLuTJ"
      }
    },
    {
      "cell_type": "markdown",
      "source": [
        "9. Can lists contain different data types in Python?\n",
        "- Yes, lists in Python can contain elements of different data types.     \n",
        "\n",
        "        list = [1, \"hello\", 3.14, True]\n",
        "        print(my_list)   \n",
        "\n"
      ],
      "metadata": {
        "id": "hiS3YdwgL-MD"
      }
    },
    {
      "cell_type": "markdown",
      "source": [
        "10. Explain why strings are immutable in Python.\n",
        "- Strings are immutable in Python for the following reasons:\n",
        "\n",
        "  - Security: Immutability prevents unintended modifications, which is important for sensitive data like passwords.\n",
        "\n",
        "  - Performance: Immutable objects can be cached and reused, improving performance.\n",
        "\n",
        "  - Consistency: Immutability ensures that strings remain constant, making them suitable for use as dictionary keys."
      ],
      "metadata": {
        "id": "3ff8gocyMbI1"
      }
    },
    {
      "cell_type": "markdown",
      "source": [
        "11. What advantages do dictionaries offer over lists for certain tasks?\n",
        "- Dictionaries offer the following advantages over lists:\n",
        "\n",
        "  - Fast Lookups: Dictionaries use hash tables, allowing O(1) average time complexity for lookups, whereas lists require O(n) for searching.\n",
        "  - Key-Value Pairs: Dictionaries store data as key-value pairs, making it easy to associate related data.\n",
        "  - Flexibility: Keys can be of any immutable type (e.g., strings, numbers, tuples), providing more flexibility than list indices.\n",
        "  - No Duplicate Keys: Dictionaries automatically enforce unique keys, preventing data redundancy."
      ],
      "metadata": {
        "id": "eB1pYsEqMkKG"
      }
    },
    {
      "cell_type": "markdown",
      "source": [
        "12. Describe a scenario where using a tuple would be preferable over a list.\n",
        "- Tuples are preferable when:\n",
        "\n",
        "  - Immutability is Required: For example, storing coordinates or configuration settings that should not change.\n",
        "  - Performance Matters: Tuples are faster than lists due to their immutability.\n",
        "  - Use as Dictionary Keys: Tuples can be used as keys in dictionaries because they are immutable."
      ],
      "metadata": {
        "id": "Jsr25KmGNCL5"
      }
    },
    {
      "cell_type": "markdown",
      "source": [
        "13. How do sets handle duplicate values in Python?\n",
        "- Sets automatically remove duplicate values. When you add an element that already exists in the set, it is ignored."
      ],
      "metadata": {
        "id": "qID8smdhNMRy"
      }
    },
    {
      "cell_type": "markdown",
      "source": [
        "14. How does the “in” keyword work differently for lists and dictionaries?\n",
        "- Lists: The in keyword checks for the existence of a value in the list. It has a time complexity of O(n) because it performs a linear search.\n",
        "\n",
        "- Dictionaries: The in keyword checks for the existence of a key in the dictionary. It has a time complexity of O(1) on average because dictionaries use hash tables."
      ],
      "metadata": {
        "id": "PPPY0MVONR8a"
      }
    },
    {
      "cell_type": "markdown",
      "source": [
        "15. Can you modify the elements of a tuple? Explain why or why not.\n",
        "- No, you cannot modify the elements of a tuple because tuples are immutable. Once a tuple is created, its contents cannot be changed. This ensures data integrity and makes tuples suitable for fixed data."
      ],
      "metadata": {
        "id": "-VFnEG_zNaRT"
      }
    },
    {
      "cell_type": "markdown",
      "source": [
        "16. What is a nested dictionary, and give an example of its use case.\n",
        "-  a nested dictionary is a dictionary that contains other dictionaries as values. It is useful for representing hierarchical or structured data."
      ],
      "metadata": {
        "id": "eugq7-_tNd2c"
      }
    },
    {
      "cell_type": "markdown",
      "source": [
        "17. Describe the time complexity of accessing elements in a dictionary.\n",
        "- Accessing elements in a dictionary has an average time complexity of O(1) because dictionaries use hash tables. However, in the worst case (due to hash collisions), it can degrade to O(n)."
      ],
      "metadata": {
        "id": "gV6bsifVL79k"
      }
    },
    {
      "cell_type": "markdown",
      "source": [
        "18. In what situations are lists preferred over dictionaries?\n",
        "- Lists are preferred when:\n",
        "\n",
        "  - Order Matters: Lists maintain the order of elements.\n",
        "  - Index-Based Access: You need to access elements by their position (index).\n",
        "  - Storing Homogeneous Data: Lists are often used for storing collections of similar items."
      ],
      "metadata": {
        "id": "dFwhUj_jNu91"
      }
    },
    {
      "cell_type": "markdown",
      "source": [
        "19. Why are dictionaries considered unordered, and how does that affect data retrieval?\n",
        "- Dictionaries were unordered, meaning the order of insertion was not preserved. Starting from Python 3.7, dictionaries maintain insertion order, but this is an implementation detail and not a guaranteed feature.\n",
        "\n",
        "-  Since dictionaries rely on hash tables, the order of keys is not predictable in older versions of Python. This means you should not rely on the order of keys when iterating over a dictionary."
      ],
      "metadata": {
        "id": "R0uVz8gZN0we"
      }
    },
    {
      "cell_type": "markdown",
      "source": [
        "20. Explain the difference between a list and a dictionary in terms of data retrieval.\n",
        "- List: Data is accessed by index (position). Retrieval time is O(1) for accessing by index but O(n) for searching by value.\n",
        "- Dictionary: Data is accessed by key. Retrieval time is O(1) on average for accessing by key."
      ],
      "metadata": {
        "id": "syM-RzqVOOLY"
      }
    },
    {
      "cell_type": "code",
      "source": [
        "# 1. Write a code to create a string with your name and print it\n",
        "\n",
        "name = \"Himangshu\"\n",
        "print(name)"
      ],
      "metadata": {
        "colab": {
          "base_uri": "https://localhost:8080/"
        },
        "id": "PUHU-F1POXIJ",
        "outputId": "4985ef02-b997-41d2-dd4a-585ae66276ae"
      },
      "execution_count": 1,
      "outputs": [
        {
          "output_type": "stream",
          "name": "stdout",
          "text": [
            "Your Name\n"
          ]
        }
      ]
    },
    {
      "cell_type": "code",
      "source": [
        "# 2. Write a code to find the length of the string \"Hello World\"\n",
        "\n",
        "string = \"Hello World\"\n",
        "length = len(string)\n",
        "print(length)"
      ],
      "metadata": {
        "colab": {
          "base_uri": "https://localhost:8080/"
        },
        "id": "MsZ90fFbOik7",
        "outputId": "1e90cc16-41f4-4a92-c9cf-577bd6096aff"
      },
      "execution_count": 4,
      "outputs": [
        {
          "output_type": "stream",
          "name": "stdout",
          "text": [
            "11\n"
          ]
        }
      ]
    },
    {
      "cell_type": "code",
      "source": [
        "# 3. Write a code to slice the first 3 characters from the string \"Python Programming\"\n",
        "string = \"Python Programming\"\n",
        "sliced_string = string[:3]\n",
        "print(sliced_string)"
      ],
      "metadata": {
        "colab": {
          "base_uri": "https://localhost:8080/"
        },
        "id": "I6MRU9tKOuWr",
        "outputId": "6018e55e-7683-434e-cf31-e5d28d4c1d98"
      },
      "execution_count": 5,
      "outputs": [
        {
          "output_type": "stream",
          "name": "stdout",
          "text": [
            "Pyt\n"
          ]
        }
      ]
    },
    {
      "cell_type": "code",
      "source": [
        "# 5. Write a code to replace the word \"apple\" with \"orange\" in the string \"I like apple\"\n",
        "\n",
        "string = \"I like apple\"\n",
        "new_string = string.replace(\"apple\", \"orange\")\n",
        "print(new_string)"
      ],
      "metadata": {
        "colab": {
          "base_uri": "https://localhost:8080/"
        },
        "id": "PmCKE4QPOno7",
        "outputId": "cabd24aa-4216-40b4-98f2-69df7e5b864d"
      },
      "execution_count": 6,
      "outputs": [
        {
          "output_type": "stream",
          "name": "stdout",
          "text": [
            "I like orange\n"
          ]
        }
      ]
    },
    {
      "cell_type": "code",
      "source": [
        "#6. Write a code to create a list with numbers 1 to 5 and print it\n",
        "\n",
        "my_list = [1, 2, 3, 4, 5]\n",
        "print(my_list)"
      ],
      "metadata": {
        "colab": {
          "base_uri": "https://localhost:8080/"
        },
        "id": "WW4kFXlNO3pq",
        "outputId": "5ff86465-cd61-4f58-b7c4-378cffd99eed"
      },
      "execution_count": 7,
      "outputs": [
        {
          "output_type": "stream",
          "name": "stdout",
          "text": [
            "[1, 2, 3, 4, 5]\n"
          ]
        }
      ]
    },
    {
      "cell_type": "code",
      "source": [
        "# 8. Write a code to remove the number 3 from the list [1, 2, 3, 4, 5]\n",
        "\n",
        "my_list = [1, 2, 3, 4, 5]\n",
        "my_list.remove(3)\n",
        "print(my_list)"
      ],
      "metadata": {
        "colab": {
          "base_uri": "https://localhost:8080/"
        },
        "id": "7w2IKF8AO9pE",
        "outputId": "f7b7a722-cfed-4113-efb7-958c4eb0b9d9"
      },
      "execution_count": 8,
      "outputs": [
        {
          "output_type": "stream",
          "name": "stdout",
          "text": [
            "[1, 2, 4, 5]\n"
          ]
        }
      ]
    },
    {
      "cell_type": "code",
      "source": [
        "# 9. Write a code to access the second element in the list ['a', 'b', 'c', 'd']\n",
        "\n",
        "my_list = ['a', 'b', 'c', 'd']\n",
        "second_element = my_list[1]\n",
        "print(second_element)"
      ],
      "metadata": {
        "colab": {
          "base_uri": "https://localhost:8080/"
        },
        "id": "XfHqHWPPPEos",
        "outputId": "27e19ced-1836-4b57-e209-7fe40d515f39"
      },
      "execution_count": 9,
      "outputs": [
        {
          "output_type": "stream",
          "name": "stdout",
          "text": [
            "b\n"
          ]
        }
      ]
    },
    {
      "cell_type": "code",
      "source": [
        "# 10. Write a code to reverse the list [10, 20, 30, 40, 50]\n",
        "\n",
        "my_list = [10, 20, 30, 40, 50]\n",
        "reversed_list = my_list[::-1]\n",
        "print(reversed_list)"
      ],
      "metadata": {
        "colab": {
          "base_uri": "https://localhost:8080/"
        },
        "id": "mR2TDmxzPJzd",
        "outputId": "62fa8dc1-1f6b-42a8-d56f-b1fbb2edbf66"
      },
      "execution_count": 10,
      "outputs": [
        {
          "output_type": "stream",
          "name": "stdout",
          "text": [
            "[50, 40, 30, 20, 10]\n"
          ]
        }
      ]
    },
    {
      "cell_type": "code",
      "source": [
        "# 11. Write a code to create a tuple with the elements 100, 200, 300 and print it.\n",
        "\n",
        "my_tuple = (100, 200, 300)\n",
        "print(my_tuple)"
      ],
      "metadata": {
        "colab": {
          "base_uri": "https://localhost:8080/"
        },
        "id": "4-eH-AQvPOGG",
        "outputId": "f3bdb635-8d7c-4370-f4d1-4a1b8416a366"
      },
      "execution_count": 11,
      "outputs": [
        {
          "output_type": "stream",
          "name": "stdout",
          "text": [
            "(100, 200, 300)\n"
          ]
        }
      ]
    },
    {
      "cell_type": "code",
      "source": [
        "# 12. Write a code to access the second-to-last element of the tuple ('red', 'green', 'blue', 'yellow').\n",
        "\n",
        "my_tuple = ('red', 'green', 'blue', 'yellow')\n",
        "second_to_last = my_tuple[-2]\n",
        "print(second_to_last)"
      ],
      "metadata": {
        "colab": {
          "base_uri": "https://localhost:8080/"
        },
        "id": "fRi_MhfRPY6O",
        "outputId": "2757c6af-1b8a-4875-f781-ce09ed35b225"
      },
      "execution_count": 12,
      "outputs": [
        {
          "output_type": "stream",
          "name": "stdout",
          "text": [
            "blue\n"
          ]
        }
      ]
    },
    {
      "cell_type": "code",
      "source": [
        "#13. Write a code to find the minimum number in the tuple (10, 20, 5, 15).\n",
        "\n",
        "my_tuple = (10, 20, 5, 15)\n",
        "min_value = min(my_tuple)\n",
        "print(min_value)"
      ],
      "metadata": {
        "colab": {
          "base_uri": "https://localhost:8080/"
        },
        "id": "eyD3GwgGPhzG",
        "outputId": "5430f00d-4391-4aca-8805-c9127f70d9dc"
      },
      "execution_count": 13,
      "outputs": [
        {
          "output_type": "stream",
          "name": "stdout",
          "text": [
            "5\n"
          ]
        }
      ]
    },
    {
      "cell_type": "code",
      "source": [
        "#14. Write a code to find the index of the element \"cat\" in the tuple ('dog', 'cat', 'rabbit').\n",
        "my_tuple = ('dog', 'cat', 'rabbit')\n",
        "index = my_tuple.index(\"cat\")\n",
        "print(index)"
      ],
      "metadata": {
        "colab": {
          "base_uri": "https://localhost:8080/"
        },
        "id": "oX1fv7cuPn9Q",
        "outputId": "c2d6a91f-df64-4450-83c6-439520734221"
      },
      "execution_count": 14,
      "outputs": [
        {
          "output_type": "stream",
          "name": "stdout",
          "text": [
            "1\n"
          ]
        }
      ]
    },
    {
      "cell_type": "code",
      "source": [
        "#15. Write a code to create a tuple containing three different fruits and check if \"kiwi\" is in it.\n",
        "\n",
        "fruits = ('apple', 'banana', 'orange')\n",
        "is_kiwi = \"kiwi\" in fruits\n",
        "print(is_kiwi)"
      ],
      "metadata": {
        "colab": {
          "base_uri": "https://localhost:8080/"
        },
        "id": "jHHnlx6rPs2A",
        "outputId": "ce5096bd-06a8-4c57-83ba-69a1c5ba7288"
      },
      "execution_count": 15,
      "outputs": [
        {
          "output_type": "stream",
          "name": "stdout",
          "text": [
            "False\n"
          ]
        }
      ]
    },
    {
      "cell_type": "code",
      "source": [
        "#16. Write a code to create a set with the elements 'a', 'b', 'c' and print it.\n",
        "\n",
        "my_set = {'a', 'b', 'c'}\n",
        "print(my_set)\n"
      ],
      "metadata": {
        "colab": {
          "base_uri": "https://localhost:8080/"
        },
        "id": "gs1_fxyDPwmY",
        "outputId": "a0717c50-f83e-4bf1-f06c-17d0633ddc69"
      },
      "execution_count": 16,
      "outputs": [
        {
          "output_type": "stream",
          "name": "stdout",
          "text": [
            "{'c', 'a', 'b'}\n"
          ]
        }
      ]
    },
    {
      "cell_type": "code",
      "source": [
        "#17. Write a code to clear all elements from the set {1, 2, 3, 4, 5}.\n",
        "{1, 2, 3, 4, 5}\n",
        "my_set.clear()\n",
        "print(my_set)\n"
      ],
      "metadata": {
        "colab": {
          "base_uri": "https://localhost:8080/"
        },
        "id": "mVOrc9KyP0u5",
        "outputId": "b5fe5d15-017c-42f1-9d3a-27a008f56327"
      },
      "execution_count": 18,
      "outputs": [
        {
          "output_type": "stream",
          "name": "stdout",
          "text": [
            "set()\n"
          ]
        }
      ]
    },
    {
      "cell_type": "code",
      "source": [
        "#18. Write a code to remove the element 4 from the set {1, 2, 3, 4}.\n",
        "\n",
        "my_set = {1, 2, 3, 4}\n",
        "my_set.remove(4)\n",
        "print(my_set)"
      ],
      "metadata": {
        "colab": {
          "base_uri": "https://localhost:8080/"
        },
        "id": "XXE5ot5AP5th",
        "outputId": "a90bdeac-57c6-4346-af62-81e364fa5ae1"
      },
      "execution_count": 19,
      "outputs": [
        {
          "output_type": "stream",
          "name": "stdout",
          "text": [
            "{1, 2, 3}\n"
          ]
        }
      ]
    },
    {
      "cell_type": "code",
      "source": [
        "#19. Write a code to find the union of two sets {1, 2, 3} and {3, 4, 5}.\n",
        "\n",
        "set1 = {1, 2, 3}\n",
        "set2 = {3, 4, 5}\n",
        "union_set = set1.union(set2)\n",
        "print(union_set)\n"
      ],
      "metadata": {
        "colab": {
          "base_uri": "https://localhost:8080/"
        },
        "id": "OUdZ45MTQCwa",
        "outputId": "7a02f97a-c34d-4a1e-fb94-397fd2f7b050"
      },
      "execution_count": 20,
      "outputs": [
        {
          "output_type": "stream",
          "name": "stdout",
          "text": [
            "{1, 2, 3, 4, 5}\n"
          ]
        }
      ]
    },
    {
      "cell_type": "code",
      "source": [
        "# 20. Write a code to find the intersection of two sets {1, 2, 3} and {2, 3, 4}.\n",
        "\n",
        "set1 = {1, 2, 3}\n",
        "set2 = {2, 3, 4}\n",
        "intersection_set = set1.intersection(set2)\n",
        "print(intersection_set)\n"
      ],
      "metadata": {
        "colab": {
          "base_uri": "https://localhost:8080/"
        },
        "id": "1pBhpYUhQGIC",
        "outputId": "d011f536-4a8f-4c84-ec78-72e3128ee008"
      },
      "execution_count": 21,
      "outputs": [
        {
          "output_type": "stream",
          "name": "stdout",
          "text": [
            "{2, 3}\n"
          ]
        }
      ]
    },
    {
      "cell_type": "code",
      "source": [
        "#21. Write a code to create a dictionary with the keys \"name\", \"age\", and \"city\", and print it.\n",
        "\n",
        "my_dict = {\"name\": \"John\", \"age\": 25, \"city\": \"New York\"}\n",
        "print(my_dict)\n"
      ],
      "metadata": {
        "colab": {
          "base_uri": "https://localhost:8080/"
        },
        "id": "Vuxlw2tJQIcC",
        "outputId": "ecf8c774-8727-46aa-cf61-ac15ad310794"
      },
      "execution_count": 22,
      "outputs": [
        {
          "output_type": "stream",
          "name": "stdout",
          "text": [
            "{'name': 'John', 'age': 25, 'city': 'New York'}\n"
          ]
        }
      ]
    },
    {
      "cell_type": "code",
      "source": [
        "# 22. Write a code to add a new key-value pair \"country\": \"USA\" to the dictionary {'name': 'John', 'age': 25}.\n",
        "\n",
        "my_dict = {'name': 'John', 'age': 25}\n",
        "my_dict[\"country\"] = \"USA\"\n",
        "print(my_dict)"
      ],
      "metadata": {
        "colab": {
          "base_uri": "https://localhost:8080/"
        },
        "id": "SnkLz4OuREJC",
        "outputId": "3dc8ee66-9b44-4926-cc5e-cf750db393ff"
      },
      "execution_count": 23,
      "outputs": [
        {
          "output_type": "stream",
          "name": "stdout",
          "text": [
            "{'name': 'John', 'age': 25, 'country': 'USA'}\n"
          ]
        }
      ]
    },
    {
      "cell_type": "code",
      "source": [
        "#23. Write a code to access the value associated with the key \"name\" in the dictionary {'name': 'Alice', 'age': 30}.\n",
        "\n",
        "my_dict = {'name': 'Alice', 'age': 30}\n",
        "name_value = my_dict[\"name\"]\n",
        "print(name_value)\n"
      ],
      "metadata": {
        "colab": {
          "base_uri": "https://localhost:8080/"
        },
        "id": "ybffVUafRHXi",
        "outputId": "2c358e8e-b004-47a8-bcb6-2c383d7aed6c"
      },
      "execution_count": 24,
      "outputs": [
        {
          "output_type": "stream",
          "name": "stdout",
          "text": [
            "Alice\n"
          ]
        }
      ]
    },
    {
      "cell_type": "code",
      "source": [
        "#24. Write a code to remove the key \"age\" from the dictionary {'name': 'Bob', 'age': 22, 'city': 'New York'}.\n",
        "\n",
        "my_dict = {'name': 'Bob', 'age': 22, 'city': 'New York'}\n",
        "del my_dict[\"age\"]\n",
        "print(my_dict)\n"
      ],
      "metadata": {
        "colab": {
          "base_uri": "https://localhost:8080/"
        },
        "id": "chzgW9V1RJNq",
        "outputId": "2f06bb45-440a-4079-db0d-152cd1e4aca4"
      },
      "execution_count": 25,
      "outputs": [
        {
          "output_type": "stream",
          "name": "stdout",
          "text": [
            "{'name': 'Bob', 'city': 'New York'}\n"
          ]
        }
      ]
    },
    {
      "cell_type": "code",
      "source": [
        "#25. Write a code to check if the key \"city\" exists in the dictionary {'name': 'Alice', 'city': 'Paris'}.\n",
        "\n",
        "my_dict = {'name': 'Alice', 'city': 'Paris'}\n",
        "has_city = \"city\" in my_dict\n",
        "print(has_city)\n"
      ],
      "metadata": {
        "colab": {
          "base_uri": "https://localhost:8080/"
        },
        "id": "kFyt3Ao3RKzy",
        "outputId": "d2b0bab9-ad3f-4772-c158-18c0ee04d305"
      },
      "execution_count": 26,
      "outputs": [
        {
          "output_type": "stream",
          "name": "stdout",
          "text": [
            "True\n"
          ]
        }
      ]
    },
    {
      "cell_type": "code",
      "source": [
        "#26. Write a code to create a list, a tuple, and a dictionary, and print them all.\n",
        "\n",
        "my_list = [1, 2, 3]\n",
        "my_tuple = (4, 5, 6)\n",
        "my_dict = {\"name\": \"John\", \"age\": 25}\n",
        "\n",
        "print(\"List:\", my_list)\n",
        "print(\"Tuple:\", my_tuple)\n",
        "print(\"Dictionary:\", my_dict)\n"
      ],
      "metadata": {
        "colab": {
          "base_uri": "https://localhost:8080/"
        },
        "id": "Qi6SPpdvRMyq",
        "outputId": "e6e4cc08-215e-4752-c746-f4ffa52bc14c"
      },
      "execution_count": 27,
      "outputs": [
        {
          "output_type": "stream",
          "name": "stdout",
          "text": [
            "List: [1, 2, 3]\n",
            "Tuple: (4, 5, 6)\n",
            "Dictionary: {'name': 'John', 'age': 25}\n"
          ]
        }
      ]
    },
    {
      "cell_type": "code",
      "source": [
        "#27. Write a code to create a list of 5 random numbers between 1 and 100, sort it in ascending order, and print the result.\n",
        "\n",
        "import random\n",
        "\n",
        "random_numbers = [random.randint(1, 100) for _ in range(5)]\n",
        "random_numbers.sort()\n",
        "print(random_numbers)\n"
      ],
      "metadata": {
        "colab": {
          "base_uri": "https://localhost:8080/"
        },
        "id": "cGZ06MELRPIu",
        "outputId": "c3a9b64c-1c99-4618-a009-61fff078ebea"
      },
      "execution_count": 28,
      "outputs": [
        {
          "output_type": "stream",
          "name": "stdout",
          "text": [
            "[5, 27, 37, 71, 71]\n"
          ]
        }
      ]
    },
    {
      "cell_type": "code",
      "source": [
        "#28. Write a code to create a list with strings and print the element at the third index.\n",
        "\n",
        "my_list = [\"apple\", \"banana\", \"cherry\", \"date\", \"elderberry\"]\n",
        "third_index_element = my_list[3]\n",
        "print(third_index_element)\n"
      ],
      "metadata": {
        "id": "jz5ObWXiRQxb"
      },
      "execution_count": null,
      "outputs": []
    },
    {
      "cell_type": "code",
      "source": [
        "# 29. Write a code to combine two dictionaries into one and print the result.\n",
        "\n",
        "dict1 = {'a': 1, 'b': 2}\n",
        "dict2 = {'c': 3, 'd': 4}\n",
        "combined_dict = {**dict1, **dict2}\n",
        "print(combined_dict)\n"
      ],
      "metadata": {
        "colab": {
          "base_uri": "https://localhost:8080/"
        },
        "id": "f5HrMHOCRSaM",
        "outputId": "a486f89c-3c56-4649-d38e-6fff4ffe6e5e"
      },
      "execution_count": 29,
      "outputs": [
        {
          "output_type": "stream",
          "name": "stdout",
          "text": [
            "{'a': 1, 'b': 2, 'c': 3, 'd': 4}\n"
          ]
        }
      ]
    },
    {
      "cell_type": "code",
      "source": [
        "# 30. Write a code to convert a list of strings into a set.\n",
        "\n",
        "my_list = [\"apple\", \"banana\", \"cherry\", \"apple\", \"banana\"]\n",
        "my_set = set(my_list)\n",
        "print(my_set)"
      ],
      "metadata": {
        "colab": {
          "base_uri": "https://localhost:8080/"
        },
        "id": "qkygcmjKRTwE",
        "outputId": "a4268f0e-a546-4e86-e480-aa7507258112"
      },
      "execution_count": 30,
      "outputs": [
        {
          "output_type": "stream",
          "name": "stdout",
          "text": [
            "{'cherry', 'banana', 'apple'}\n"
          ]
        }
      ]
    },
    {
      "cell_type": "code",
      "source": [],
      "metadata": {
        "id": "BPJHAShpR6m9"
      },
      "execution_count": null,
      "outputs": []
    }
  ]
}